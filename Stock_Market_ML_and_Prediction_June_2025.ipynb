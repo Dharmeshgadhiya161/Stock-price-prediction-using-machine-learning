{
  "nbformat": 4,
  "nbformat_minor": 0,
  "metadata": {
    "colab": {
      "provenance": [],
      "authorship_tag": "ABX9TyN3IQVIsa9Lvy4yR5t62Wxw"
    },
    "kernelspec": {
      "name": "python3",
      "display_name": "Python 3"
    },
    "language_info": {
      "name": "python"
    }
  },
  "cells": [
    {
      "cell_type": "markdown",
      "source": [
        "## Predict future stock prices (usually Close price) using historical data."
      ],
      "metadata": {
        "id": "xSiCfWPm5yec"
      }
    },
    {
      "cell_type": "markdown",
      "source": [
        "### 💹 Stock Price Prediction (ML Application)\n",
        "**Definition** : Stock Price Prediction involves time series forecasting where machine learning models predict future stock prices using historical data such as:\n",
        "* Open price\n",
        "\n",
        "* High price\n",
        "\n",
        "* Low price\n",
        "\n",
        "* Close price\n",
        "\n",
        "(Collectively called OHLC data)"
      ],
      "metadata": {
        "id": "8tPI5KYBdAyP"
      }
    },
    {
      "cell_type": "markdown",
      "source": [
        "### Overview\n",
        "This dataset contains comprehensive stock market data for June 2025, featuring daily trading information across multiple sectors. The dataset includes 14 key financial metrics and indicators, making it ideal for financial analysis, machine learning projects, and algorithmic trading research.\n",
        "\n",
        "### Dataset Features\n",
        "Core Price Data\n",
        "* Date: Trading date in YYYY-MM-DD format\n",
        "* Ticker: Stock symbol identifier\n",
        "* Open: Opening price for the trading day\n",
        "* Close: Closing price for the trading day\n",
        "* High: Highest price reached during the day\n",
        "* Low: Lowest price reached during the day\n",
        "Trading Metrics\n",
        "* Volume: Number of shares traded\n",
        "* Market Cap: Total market capitalization\n",
        "Financial Ratios & Indicators\n",
        "* PE Ratio: Price-to-Earnings ratio for valuation analysis\n",
        "* Dividend Yield: Annual dividend as percentage of stock price\n",
        "* EPS: Earnings Per Share\n",
        "* 52 Week High: Highest price in the past 52 weeks\n",
        "* 52 Week Low: Lowest price in the past 52 weeks"
      ],
      "metadata": {
        "id": "jhaDwuQ0-Nmw"
      }
    },
    {
      "cell_type": "markdown",
      "source": [
        "### Import Library\n",
        "\n"
      ],
      "metadata": {
        "id": "VrJzhqoV_2BT"
      }
    },
    {
      "cell_type": "code",
      "execution_count": 1,
      "metadata": {
        "id": "vcUogWrQ9KOj"
      },
      "outputs": [],
      "source": [
        "import pandas as pd\n",
        "import numpy as np\n",
        "import matplotlib.pyplot as plt\n",
        "import seaborn as sns\n",
        "import warnings\n",
        "warnings.filterwarnings('ignore')"
      ]
    },
    {
      "cell_type": "markdown",
      "source": [
        "### Dataset Loading"
      ],
      "metadata": {
        "id": "SKNBYMoIAQ9j"
      }
    },
    {
      "cell_type": "code",
      "source": [
        "#loading data\n",
        "from google.colab import drive\n",
        "drive.mount('/content/drive')\n",
        "df_sm= pd.read_csv(\"/content/drive/My Drive/Colab Notebooks/Module: Machine Learning/Machine Learning Project/stock_market_2025.csv\")"
      ],
      "metadata": {
        "colab": {
          "base_uri": "https://localhost:8080/"
        },
        "id": "zPx8RweqAWjC",
        "outputId": "541c1fef-ee84-4fef-b3bf-b4d0349664ae"
      },
      "execution_count": 2,
      "outputs": [
        {
          "output_type": "stream",
          "name": "stdout",
          "text": [
            "Mounted at /content/drive\n"
          ]
        }
      ]
    },
    {
      "cell_type": "code",
      "source": [
        "# Rename columns for convenience\n",
        "df_sm.columns = [col.strip().replace(\" \", \"_\").lower() for col in df_sm.columns]"
      ],
      "metadata": {
        "id": "mnjC1ctFDtIZ"
      },
      "execution_count": 3,
      "outputs": []
    },
    {
      "cell_type": "code",
      "source": [
        "df_sm.head()"
      ],
      "metadata": {
        "colab": {
          "base_uri": "https://localhost:8080/",
          "height": 399
        },
        "id": "sZH0ZZYJCNcE",
        "outputId": "50243f07-b96f-42f8-9341-845d9aab5dae"
      },
      "execution_count": 5,
      "outputs": [
        {
          "output_type": "execute_result",
          "data": {
            "text/plain": [
              "         date ticker  open_price  close_price  high_price  low_price  \\\n",
              "0  01-06-2025    SLH       34.92        34.53       35.22      34.38   \n",
              "1  01-06-2025    WGB      206.50       208.45      210.51     205.12   \n",
              "2  01-06-2025    ZIN      125.10       124.03      127.40     121.77   \n",
              "3  01-06-2025    YPY      260.55       265.28      269.99     256.64   \n",
              "4  01-06-2025    VKD      182.43       186.89      189.40     179.02   \n",
              "\n",
              "   volume_traded    market_cap  pe_ratio  dividend_yield    eps  52_week_high  \\\n",
              "0        2966611  5.738136e+10     29.63            2.85   1.17         39.39   \n",
              "1        1658738  5.274707e+10     13.03            2.73  16.00        227.38   \n",
              "2       10709898  5.596949e+10     29.19            2.64   4.25        138.35   \n",
              "3       14012358  7.964089e+10     19.92            1.29  13.32        317.57   \n",
              "4       14758143  7.271437e+10     40.18            1.17   4.65        243.54   \n",
              "\n",
              "   52_week_low       sector  \n",
              "0        28.44  Industrials  \n",
              "1       136.79       Energy  \n",
              "2       100.69   Healthcare  \n",
              "3       178.26  Industrials  \n",
              "4       165.53   Technology  "
            ],
            "text/html": [
              "\n",
              "  <div id=\"df-dd2742e6-8fb7-47e0-b5eb-cd01f162f676\" class=\"colab-df-container\">\n",
              "    <div>\n",
              "<style scoped>\n",
              "    .dataframe tbody tr th:only-of-type {\n",
              "        vertical-align: middle;\n",
              "    }\n",
              "\n",
              "    .dataframe tbody tr th {\n",
              "        vertical-align: top;\n",
              "    }\n",
              "\n",
              "    .dataframe thead th {\n",
              "        text-align: right;\n",
              "    }\n",
              "</style>\n",
              "<table border=\"1\" class=\"dataframe\">\n",
              "  <thead>\n",
              "    <tr style=\"text-align: right;\">\n",
              "      <th></th>\n",
              "      <th>date</th>\n",
              "      <th>ticker</th>\n",
              "      <th>open_price</th>\n",
              "      <th>close_price</th>\n",
              "      <th>high_price</th>\n",
              "      <th>low_price</th>\n",
              "      <th>volume_traded</th>\n",
              "      <th>market_cap</th>\n",
              "      <th>pe_ratio</th>\n",
              "      <th>dividend_yield</th>\n",
              "      <th>eps</th>\n",
              "      <th>52_week_high</th>\n",
              "      <th>52_week_low</th>\n",
              "      <th>sector</th>\n",
              "    </tr>\n",
              "  </thead>\n",
              "  <tbody>\n",
              "    <tr>\n",
              "      <th>0</th>\n",
              "      <td>01-06-2025</td>\n",
              "      <td>SLH</td>\n",
              "      <td>34.92</td>\n",
              "      <td>34.53</td>\n",
              "      <td>35.22</td>\n",
              "      <td>34.38</td>\n",
              "      <td>2966611</td>\n",
              "      <td>5.738136e+10</td>\n",
              "      <td>29.63</td>\n",
              "      <td>2.85</td>\n",
              "      <td>1.17</td>\n",
              "      <td>39.39</td>\n",
              "      <td>28.44</td>\n",
              "      <td>Industrials</td>\n",
              "    </tr>\n",
              "    <tr>\n",
              "      <th>1</th>\n",
              "      <td>01-06-2025</td>\n",
              "      <td>WGB</td>\n",
              "      <td>206.50</td>\n",
              "      <td>208.45</td>\n",
              "      <td>210.51</td>\n",
              "      <td>205.12</td>\n",
              "      <td>1658738</td>\n",
              "      <td>5.274707e+10</td>\n",
              "      <td>13.03</td>\n",
              "      <td>2.73</td>\n",
              "      <td>16.00</td>\n",
              "      <td>227.38</td>\n",
              "      <td>136.79</td>\n",
              "      <td>Energy</td>\n",
              "    </tr>\n",
              "    <tr>\n",
              "      <th>2</th>\n",
              "      <td>01-06-2025</td>\n",
              "      <td>ZIN</td>\n",
              "      <td>125.10</td>\n",
              "      <td>124.03</td>\n",
              "      <td>127.40</td>\n",
              "      <td>121.77</td>\n",
              "      <td>10709898</td>\n",
              "      <td>5.596949e+10</td>\n",
              "      <td>29.19</td>\n",
              "      <td>2.64</td>\n",
              "      <td>4.25</td>\n",
              "      <td>138.35</td>\n",
              "      <td>100.69</td>\n",
              "      <td>Healthcare</td>\n",
              "    </tr>\n",
              "    <tr>\n",
              "      <th>3</th>\n",
              "      <td>01-06-2025</td>\n",
              "      <td>YPY</td>\n",
              "      <td>260.55</td>\n",
              "      <td>265.28</td>\n",
              "      <td>269.99</td>\n",
              "      <td>256.64</td>\n",
              "      <td>14012358</td>\n",
              "      <td>7.964089e+10</td>\n",
              "      <td>19.92</td>\n",
              "      <td>1.29</td>\n",
              "      <td>13.32</td>\n",
              "      <td>317.57</td>\n",
              "      <td>178.26</td>\n",
              "      <td>Industrials</td>\n",
              "    </tr>\n",
              "    <tr>\n",
              "      <th>4</th>\n",
              "      <td>01-06-2025</td>\n",
              "      <td>VKD</td>\n",
              "      <td>182.43</td>\n",
              "      <td>186.89</td>\n",
              "      <td>189.40</td>\n",
              "      <td>179.02</td>\n",
              "      <td>14758143</td>\n",
              "      <td>7.271437e+10</td>\n",
              "      <td>40.18</td>\n",
              "      <td>1.17</td>\n",
              "      <td>4.65</td>\n",
              "      <td>243.54</td>\n",
              "      <td>165.53</td>\n",
              "      <td>Technology</td>\n",
              "    </tr>\n",
              "  </tbody>\n",
              "</table>\n",
              "</div>\n",
              "    <div class=\"colab-df-buttons\">\n",
              "\n",
              "  <div class=\"colab-df-container\">\n",
              "    <button class=\"colab-df-convert\" onclick=\"convertToInteractive('df-dd2742e6-8fb7-47e0-b5eb-cd01f162f676')\"\n",
              "            title=\"Convert this dataframe to an interactive table.\"\n",
              "            style=\"display:none;\">\n",
              "\n",
              "  <svg xmlns=\"http://www.w3.org/2000/svg\" height=\"24px\" viewBox=\"0 -960 960 960\">\n",
              "    <path d=\"M120-120v-720h720v720H120Zm60-500h600v-160H180v160Zm220 220h160v-160H400v160Zm0 220h160v-160H400v160ZM180-400h160v-160H180v160Zm440 0h160v-160H620v160ZM180-180h160v-160H180v160Zm440 0h160v-160H620v160Z\"/>\n",
              "  </svg>\n",
              "    </button>\n",
              "\n",
              "  <style>\n",
              "    .colab-df-container {\n",
              "      display:flex;\n",
              "      gap: 12px;\n",
              "    }\n",
              "\n",
              "    .colab-df-convert {\n",
              "      background-color: #E8F0FE;\n",
              "      border: none;\n",
              "      border-radius: 50%;\n",
              "      cursor: pointer;\n",
              "      display: none;\n",
              "      fill: #1967D2;\n",
              "      height: 32px;\n",
              "      padding: 0 0 0 0;\n",
              "      width: 32px;\n",
              "    }\n",
              "\n",
              "    .colab-df-convert:hover {\n",
              "      background-color: #E2EBFA;\n",
              "      box-shadow: 0px 1px 2px rgba(60, 64, 67, 0.3), 0px 1px 3px 1px rgba(60, 64, 67, 0.15);\n",
              "      fill: #174EA6;\n",
              "    }\n",
              "\n",
              "    .colab-df-buttons div {\n",
              "      margin-bottom: 4px;\n",
              "    }\n",
              "\n",
              "    [theme=dark] .colab-df-convert {\n",
              "      background-color: #3B4455;\n",
              "      fill: #D2E3FC;\n",
              "    }\n",
              "\n",
              "    [theme=dark] .colab-df-convert:hover {\n",
              "      background-color: #434B5C;\n",
              "      box-shadow: 0px 1px 3px 1px rgba(0, 0, 0, 0.15);\n",
              "      filter: drop-shadow(0px 1px 2px rgba(0, 0, 0, 0.3));\n",
              "      fill: #FFFFFF;\n",
              "    }\n",
              "  </style>\n",
              "\n",
              "    <script>\n",
              "      const buttonEl =\n",
              "        document.querySelector('#df-dd2742e6-8fb7-47e0-b5eb-cd01f162f676 button.colab-df-convert');\n",
              "      buttonEl.style.display =\n",
              "        google.colab.kernel.accessAllowed ? 'block' : 'none';\n",
              "\n",
              "      async function convertToInteractive(key) {\n",
              "        const element = document.querySelector('#df-dd2742e6-8fb7-47e0-b5eb-cd01f162f676');\n",
              "        const dataTable =\n",
              "          await google.colab.kernel.invokeFunction('convertToInteractive',\n",
              "                                                    [key], {});\n",
              "        if (!dataTable) return;\n",
              "\n",
              "        const docLinkHtml = 'Like what you see? Visit the ' +\n",
              "          '<a target=\"_blank\" href=https://colab.research.google.com/notebooks/data_table.ipynb>data table notebook</a>'\n",
              "          + ' to learn more about interactive tables.';\n",
              "        element.innerHTML = '';\n",
              "        dataTable['output_type'] = 'display_data';\n",
              "        await google.colab.output.renderOutput(dataTable, element);\n",
              "        const docLink = document.createElement('div');\n",
              "        docLink.innerHTML = docLinkHtml;\n",
              "        element.appendChild(docLink);\n",
              "      }\n",
              "    </script>\n",
              "  </div>\n",
              "\n",
              "\n",
              "    <div id=\"df-a6d80cb0-21ac-4a9e-8430-9bfafab8b384\">\n",
              "      <button class=\"colab-df-quickchart\" onclick=\"quickchart('df-a6d80cb0-21ac-4a9e-8430-9bfafab8b384')\"\n",
              "                title=\"Suggest charts\"\n",
              "                style=\"display:none;\">\n",
              "\n",
              "<svg xmlns=\"http://www.w3.org/2000/svg\" height=\"24px\"viewBox=\"0 0 24 24\"\n",
              "     width=\"24px\">\n",
              "    <g>\n",
              "        <path d=\"M19 3H5c-1.1 0-2 .9-2 2v14c0 1.1.9 2 2 2h14c1.1 0 2-.9 2-2V5c0-1.1-.9-2-2-2zM9 17H7v-7h2v7zm4 0h-2V7h2v10zm4 0h-2v-4h2v4z\"/>\n",
              "    </g>\n",
              "</svg>\n",
              "      </button>\n",
              "\n",
              "<style>\n",
              "  .colab-df-quickchart {\n",
              "      --bg-color: #E8F0FE;\n",
              "      --fill-color: #1967D2;\n",
              "      --hover-bg-color: #E2EBFA;\n",
              "      --hover-fill-color: #174EA6;\n",
              "      --disabled-fill-color: #AAA;\n",
              "      --disabled-bg-color: #DDD;\n",
              "  }\n",
              "\n",
              "  [theme=dark] .colab-df-quickchart {\n",
              "      --bg-color: #3B4455;\n",
              "      --fill-color: #D2E3FC;\n",
              "      --hover-bg-color: #434B5C;\n",
              "      --hover-fill-color: #FFFFFF;\n",
              "      --disabled-bg-color: #3B4455;\n",
              "      --disabled-fill-color: #666;\n",
              "  }\n",
              "\n",
              "  .colab-df-quickchart {\n",
              "    background-color: var(--bg-color);\n",
              "    border: none;\n",
              "    border-radius: 50%;\n",
              "    cursor: pointer;\n",
              "    display: none;\n",
              "    fill: var(--fill-color);\n",
              "    height: 32px;\n",
              "    padding: 0;\n",
              "    width: 32px;\n",
              "  }\n",
              "\n",
              "  .colab-df-quickchart:hover {\n",
              "    background-color: var(--hover-bg-color);\n",
              "    box-shadow: 0 1px 2px rgba(60, 64, 67, 0.3), 0 1px 3px 1px rgba(60, 64, 67, 0.15);\n",
              "    fill: var(--button-hover-fill-color);\n",
              "  }\n",
              "\n",
              "  .colab-df-quickchart-complete:disabled,\n",
              "  .colab-df-quickchart-complete:disabled:hover {\n",
              "    background-color: var(--disabled-bg-color);\n",
              "    fill: var(--disabled-fill-color);\n",
              "    box-shadow: none;\n",
              "  }\n",
              "\n",
              "  .colab-df-spinner {\n",
              "    border: 2px solid var(--fill-color);\n",
              "    border-color: transparent;\n",
              "    border-bottom-color: var(--fill-color);\n",
              "    animation:\n",
              "      spin 1s steps(1) infinite;\n",
              "  }\n",
              "\n",
              "  @keyframes spin {\n",
              "    0% {\n",
              "      border-color: transparent;\n",
              "      border-bottom-color: var(--fill-color);\n",
              "      border-left-color: var(--fill-color);\n",
              "    }\n",
              "    20% {\n",
              "      border-color: transparent;\n",
              "      border-left-color: var(--fill-color);\n",
              "      border-top-color: var(--fill-color);\n",
              "    }\n",
              "    30% {\n",
              "      border-color: transparent;\n",
              "      border-left-color: var(--fill-color);\n",
              "      border-top-color: var(--fill-color);\n",
              "      border-right-color: var(--fill-color);\n",
              "    }\n",
              "    40% {\n",
              "      border-color: transparent;\n",
              "      border-right-color: var(--fill-color);\n",
              "      border-top-color: var(--fill-color);\n",
              "    }\n",
              "    60% {\n",
              "      border-color: transparent;\n",
              "      border-right-color: var(--fill-color);\n",
              "    }\n",
              "    80% {\n",
              "      border-color: transparent;\n",
              "      border-right-color: var(--fill-color);\n",
              "      border-bottom-color: var(--fill-color);\n",
              "    }\n",
              "    90% {\n",
              "      border-color: transparent;\n",
              "      border-bottom-color: var(--fill-color);\n",
              "    }\n",
              "  }\n",
              "</style>\n",
              "\n",
              "      <script>\n",
              "        async function quickchart(key) {\n",
              "          const quickchartButtonEl =\n",
              "            document.querySelector('#' + key + ' button');\n",
              "          quickchartButtonEl.disabled = true;  // To prevent multiple clicks.\n",
              "          quickchartButtonEl.classList.add('colab-df-spinner');\n",
              "          try {\n",
              "            const charts = await google.colab.kernel.invokeFunction(\n",
              "                'suggestCharts', [key], {});\n",
              "          } catch (error) {\n",
              "            console.error('Error during call to suggestCharts:', error);\n",
              "          }\n",
              "          quickchartButtonEl.classList.remove('colab-df-spinner');\n",
              "          quickchartButtonEl.classList.add('colab-df-quickchart-complete');\n",
              "        }\n",
              "        (() => {\n",
              "          let quickchartButtonEl =\n",
              "            document.querySelector('#df-a6d80cb0-21ac-4a9e-8430-9bfafab8b384 button');\n",
              "          quickchartButtonEl.style.display =\n",
              "            google.colab.kernel.accessAllowed ? 'block' : 'none';\n",
              "        })();\n",
              "      </script>\n",
              "    </div>\n",
              "\n",
              "    </div>\n",
              "  </div>\n"
            ],
            "application/vnd.google.colaboratory.intrinsic+json": {
              "type": "dataframe",
              "variable_name": "df_sm",
              "summary": "{\n  \"name\": \"df_sm\",\n  \"rows\": 1762,\n  \"fields\": [\n    {\n      \"column\": \"date\",\n      \"properties\": {\n        \"dtype\": \"category\",\n        \"num_unique_values\": 21,\n        \"samples\": [\n          \"01-06-2025\",\n          \"18-06-2025\",\n          \"16-06-2025\"\n        ],\n        \"semantic_type\": \"\",\n        \"description\": \"\"\n      }\n    },\n    {\n      \"column\": \"ticker\",\n      \"properties\": {\n        \"dtype\": \"string\",\n        \"num_unique_values\": 1691,\n        \"samples\": [\n          \"HXH\",\n          \"KDQ\",\n          \"FCZ\"\n        ],\n        \"semantic_type\": \"\",\n        \"description\": \"\"\n      }\n    },\n    {\n      \"column\": \"open_price\",\n      \"properties\": {\n        \"dtype\": \"number\",\n        \"std\": 82.04304553560841,\n        \"min\": 15.02,\n        \"max\": 434.4,\n        \"num_unique_values\": 1714,\n        \"samples\": [\n          51.56,\n          217.44,\n          401.04\n        ],\n        \"semantic_type\": \"\",\n        \"description\": \"\"\n      }\n    },\n    {\n      \"column\": \"close_price\",\n      \"properties\": {\n        \"dtype\": \"number\",\n        \"std\": 82.22744764753729,\n        \"min\": 14.77,\n        \"max\": 447.43,\n        \"num_unique_values\": 1715,\n        \"samples\": [\n          140.29,\n          266.57,\n          45.94\n        ],\n        \"semantic_type\": \"\",\n        \"description\": \"\"\n      }\n    },\n    {\n      \"column\": \"high_price\",\n      \"properties\": {\n        \"dtype\": \"number\",\n        \"std\": 83.62655912430942,\n        \"min\": 15.12,\n        \"max\": 453.86,\n        \"num_unique_values\": 1703,\n        \"samples\": [\n          286.87,\n          96.75,\n          182.7\n        ],\n        \"semantic_type\": \"\",\n        \"description\": \"\"\n      }\n    },\n    {\n      \"column\": \"low_price\",\n      \"properties\": {\n        \"dtype\": \"number\",\n        \"std\": 80.64707336770509,\n        \"min\": 14.48,\n        \"max\": 431.5,\n        \"num_unique_values\": 1724,\n        \"samples\": [\n          165.54,\n          29.18,\n          150.66\n        ],\n        \"semantic_type\": \"\",\n        \"description\": \"\"\n      }\n    },\n    {\n      \"column\": \"volume_traded\",\n      \"properties\": {\n        \"dtype\": \"number\",\n        \"std\": 5104889,\n        \"min\": 500727,\n        \"max\": 65377735,\n        \"num_unique_values\": 1762,\n        \"samples\": [\n          2305965,\n          8565064,\n          12603198\n        ],\n        \"semantic_type\": \"\",\n        \"description\": \"\"\n      }\n    },\n    {\n      \"column\": \"market_cap\",\n      \"properties\": {\n        \"dtype\": \"number\",\n        \"std\": 146716824894.5292,\n        \"min\": 1290760739.8228743,\n        \"max\": 3481112076572.781,\n        \"num_unique_values\": 1762,\n        \"samples\": [\n          56712086506.48871,\n          67087746675.40796,\n          65890812677.31951\n        ],\n        \"semantic_type\": \"\",\n        \"description\": \"\"\n      }\n    },\n    {\n      \"column\": \"pe_ratio\",\n      \"properties\": {\n        \"dtype\": \"number\",\n        \"std\": 7.498239125375651,\n        \"min\": 8.02,\n        \"max\": 44.89,\n        \"num_unique_values\": 1309,\n        \"samples\": [\n          33.6,\n          25.14,\n          35.73\n        ],\n        \"semantic_type\": \"\",\n        \"description\": \"\"\n      }\n    },\n    {\n      \"column\": \"dividend_yield\",\n      \"properties\": {\n        \"dtype\": \"number\",\n        \"std\": 1.1240367217273306,\n        \"min\": 0.01,\n        \"max\": 5.0,\n        \"num_unique_values\": 440,\n        \"samples\": [\n          4.34,\n          4.0,\n          0.14\n        ],\n        \"semantic_type\": \"\",\n        \"description\": \"\"\n      }\n    },\n    {\n      \"column\": \"eps\",\n      \"properties\": {\n        \"dtype\": \"number\",\n        \"std\": 5.202410565777991,\n        \"min\": 0.47,\n        \"max\": 54.1,\n        \"num_unique_values\": 1061,\n        \"samples\": [\n          1.96,\n          19.49,\n          6.01\n        ],\n        \"semantic_type\": \"\",\n        \"description\": \"\"\n      }\n    },\n    {\n      \"column\": \"52_week_high\",\n      \"properties\": {\n        \"dtype\": \"number\",\n        \"std\": 99.08229094490218,\n        \"min\": 17.03,\n        \"max\": 571.57,\n        \"num_unique_values\": 1718,\n        \"samples\": [\n          309.78,\n          73.11,\n          20.31\n        ],\n        \"semantic_type\": \"\",\n        \"description\": \"\"\n      }\n    },\n    {\n      \"column\": \"52_week_low\",\n      \"properties\": {\n        \"dtype\": \"number\",\n        \"std\": 67.76727875714114,\n        \"min\": 10.01,\n        \"max\": 345.53,\n        \"num_unique_values\": 1706,\n        \"samples\": [\n          164.65,\n          44.74,\n          20.92\n        ],\n        \"semantic_type\": \"\",\n        \"description\": \"\"\n      }\n    },\n    {\n      \"column\": \"sector\",\n      \"properties\": {\n        \"dtype\": \"category\",\n        \"num_unique_values\": 11,\n        \"samples\": [\n          \"Materials\",\n          \"Industrials\",\n          \"Communication Services\"\n        ],\n        \"semantic_type\": \"\",\n        \"description\": \"\"\n      }\n    }\n  ]\n}"
            }
          },
          "metadata": {},
          "execution_count": 5
        }
      ]
    },
    {
      "cell_type": "code",
      "source": [
        "df_sm.tail()"
      ],
      "metadata": {
        "id": "nBZ9z6zs6hxV",
        "colab": {
          "base_uri": "https://localhost:8080/",
          "height": 399
        },
        "outputId": "5131ae6d-f7fb-4abc-d786-56a112a6dd15"
      },
      "execution_count": 6,
      "outputs": [
        {
          "output_type": "execute_result",
          "data": {
            "text/plain": [
              "            date ticker  open_price  close_price  high_price  low_price  \\\n",
              "1757  21-06-2025    ZTL      196.09       199.18      200.08     195.42   \n",
              "1758  21-06-2025    XOE      105.08       108.08      109.90     104.68   \n",
              "1759  21-06-2025    EIE       18.88        18.46       18.95      18.23   \n",
              "1760  21-06-2025    XYQ      154.55       158.57      160.85     152.37   \n",
              "1761  21-06-2025    UAA      201.52       198.09      205.08     195.70   \n",
              "\n",
              "      volume_traded    market_cap  pe_ratio  dividend_yield   eps  \\\n",
              "1757        2749236  9.946662e+10     22.17            1.26  8.98   \n",
              "1758        4582198  5.017450e+10     35.74            1.79  3.02   \n",
              "1759        6997077  8.502518e+09     10.18            2.09  1.81   \n",
              "1760        3549117  9.663899e+10     29.64            1.71  5.35   \n",
              "1761        6484178  1.563642e+10     27.75            1.18  7.14   \n",
              "\n",
              "      52_week_high  52_week_low                  sector  \n",
              "1757        232.20       186.46              Technology  \n",
              "1758        129.28        75.71              Technology  \n",
              "1759         24.50        14.64                  Energy  \n",
              "1760        199.23       149.78  Communication Services  \n",
              "1761        258.92       184.92               Materials  "
            ],
            "text/html": [
              "\n",
              "  <div id=\"df-afcb5b09-17b2-4ed7-80fb-0283f5366b28\" class=\"colab-df-container\">\n",
              "    <div>\n",
              "<style scoped>\n",
              "    .dataframe tbody tr th:only-of-type {\n",
              "        vertical-align: middle;\n",
              "    }\n",
              "\n",
              "    .dataframe tbody tr th {\n",
              "        vertical-align: top;\n",
              "    }\n",
              "\n",
              "    .dataframe thead th {\n",
              "        text-align: right;\n",
              "    }\n",
              "</style>\n",
              "<table border=\"1\" class=\"dataframe\">\n",
              "  <thead>\n",
              "    <tr style=\"text-align: right;\">\n",
              "      <th></th>\n",
              "      <th>date</th>\n",
              "      <th>ticker</th>\n",
              "      <th>open_price</th>\n",
              "      <th>close_price</th>\n",
              "      <th>high_price</th>\n",
              "      <th>low_price</th>\n",
              "      <th>volume_traded</th>\n",
              "      <th>market_cap</th>\n",
              "      <th>pe_ratio</th>\n",
              "      <th>dividend_yield</th>\n",
              "      <th>eps</th>\n",
              "      <th>52_week_high</th>\n",
              "      <th>52_week_low</th>\n",
              "      <th>sector</th>\n",
              "    </tr>\n",
              "  </thead>\n",
              "  <tbody>\n",
              "    <tr>\n",
              "      <th>1757</th>\n",
              "      <td>21-06-2025</td>\n",
              "      <td>ZTL</td>\n",
              "      <td>196.09</td>\n",
              "      <td>199.18</td>\n",
              "      <td>200.08</td>\n",
              "      <td>195.42</td>\n",
              "      <td>2749236</td>\n",
              "      <td>9.946662e+10</td>\n",
              "      <td>22.17</td>\n",
              "      <td>1.26</td>\n",
              "      <td>8.98</td>\n",
              "      <td>232.20</td>\n",
              "      <td>186.46</td>\n",
              "      <td>Technology</td>\n",
              "    </tr>\n",
              "    <tr>\n",
              "      <th>1758</th>\n",
              "      <td>21-06-2025</td>\n",
              "      <td>XOE</td>\n",
              "      <td>105.08</td>\n",
              "      <td>108.08</td>\n",
              "      <td>109.90</td>\n",
              "      <td>104.68</td>\n",
              "      <td>4582198</td>\n",
              "      <td>5.017450e+10</td>\n",
              "      <td>35.74</td>\n",
              "      <td>1.79</td>\n",
              "      <td>3.02</td>\n",
              "      <td>129.28</td>\n",
              "      <td>75.71</td>\n",
              "      <td>Technology</td>\n",
              "    </tr>\n",
              "    <tr>\n",
              "      <th>1759</th>\n",
              "      <td>21-06-2025</td>\n",
              "      <td>EIE</td>\n",
              "      <td>18.88</td>\n",
              "      <td>18.46</td>\n",
              "      <td>18.95</td>\n",
              "      <td>18.23</td>\n",
              "      <td>6997077</td>\n",
              "      <td>8.502518e+09</td>\n",
              "      <td>10.18</td>\n",
              "      <td>2.09</td>\n",
              "      <td>1.81</td>\n",
              "      <td>24.50</td>\n",
              "      <td>14.64</td>\n",
              "      <td>Energy</td>\n",
              "    </tr>\n",
              "    <tr>\n",
              "      <th>1760</th>\n",
              "      <td>21-06-2025</td>\n",
              "      <td>XYQ</td>\n",
              "      <td>154.55</td>\n",
              "      <td>158.57</td>\n",
              "      <td>160.85</td>\n",
              "      <td>152.37</td>\n",
              "      <td>3549117</td>\n",
              "      <td>9.663899e+10</td>\n",
              "      <td>29.64</td>\n",
              "      <td>1.71</td>\n",
              "      <td>5.35</td>\n",
              "      <td>199.23</td>\n",
              "      <td>149.78</td>\n",
              "      <td>Communication Services</td>\n",
              "    </tr>\n",
              "    <tr>\n",
              "      <th>1761</th>\n",
              "      <td>21-06-2025</td>\n",
              "      <td>UAA</td>\n",
              "      <td>201.52</td>\n",
              "      <td>198.09</td>\n",
              "      <td>205.08</td>\n",
              "      <td>195.70</td>\n",
              "      <td>6484178</td>\n",
              "      <td>1.563642e+10</td>\n",
              "      <td>27.75</td>\n",
              "      <td>1.18</td>\n",
              "      <td>7.14</td>\n",
              "      <td>258.92</td>\n",
              "      <td>184.92</td>\n",
              "      <td>Materials</td>\n",
              "    </tr>\n",
              "  </tbody>\n",
              "</table>\n",
              "</div>\n",
              "    <div class=\"colab-df-buttons\">\n",
              "\n",
              "  <div class=\"colab-df-container\">\n",
              "    <button class=\"colab-df-convert\" onclick=\"convertToInteractive('df-afcb5b09-17b2-4ed7-80fb-0283f5366b28')\"\n",
              "            title=\"Convert this dataframe to an interactive table.\"\n",
              "            style=\"display:none;\">\n",
              "\n",
              "  <svg xmlns=\"http://www.w3.org/2000/svg\" height=\"24px\" viewBox=\"0 -960 960 960\">\n",
              "    <path d=\"M120-120v-720h720v720H120Zm60-500h600v-160H180v160Zm220 220h160v-160H400v160Zm0 220h160v-160H400v160ZM180-400h160v-160H180v160Zm440 0h160v-160H620v160ZM180-180h160v-160H180v160Zm440 0h160v-160H620v160Z\"/>\n",
              "  </svg>\n",
              "    </button>\n",
              "\n",
              "  <style>\n",
              "    .colab-df-container {\n",
              "      display:flex;\n",
              "      gap: 12px;\n",
              "    }\n",
              "\n",
              "    .colab-df-convert {\n",
              "      background-color: #E8F0FE;\n",
              "      border: none;\n",
              "      border-radius: 50%;\n",
              "      cursor: pointer;\n",
              "      display: none;\n",
              "      fill: #1967D2;\n",
              "      height: 32px;\n",
              "      padding: 0 0 0 0;\n",
              "      width: 32px;\n",
              "    }\n",
              "\n",
              "    .colab-df-convert:hover {\n",
              "      background-color: #E2EBFA;\n",
              "      box-shadow: 0px 1px 2px rgba(60, 64, 67, 0.3), 0px 1px 3px 1px rgba(60, 64, 67, 0.15);\n",
              "      fill: #174EA6;\n",
              "    }\n",
              "\n",
              "    .colab-df-buttons div {\n",
              "      margin-bottom: 4px;\n",
              "    }\n",
              "\n",
              "    [theme=dark] .colab-df-convert {\n",
              "      background-color: #3B4455;\n",
              "      fill: #D2E3FC;\n",
              "    }\n",
              "\n",
              "    [theme=dark] .colab-df-convert:hover {\n",
              "      background-color: #434B5C;\n",
              "      box-shadow: 0px 1px 3px 1px rgba(0, 0, 0, 0.15);\n",
              "      filter: drop-shadow(0px 1px 2px rgba(0, 0, 0, 0.3));\n",
              "      fill: #FFFFFF;\n",
              "    }\n",
              "  </style>\n",
              "\n",
              "    <script>\n",
              "      const buttonEl =\n",
              "        document.querySelector('#df-afcb5b09-17b2-4ed7-80fb-0283f5366b28 button.colab-df-convert');\n",
              "      buttonEl.style.display =\n",
              "        google.colab.kernel.accessAllowed ? 'block' : 'none';\n",
              "\n",
              "      async function convertToInteractive(key) {\n",
              "        const element = document.querySelector('#df-afcb5b09-17b2-4ed7-80fb-0283f5366b28');\n",
              "        const dataTable =\n",
              "          await google.colab.kernel.invokeFunction('convertToInteractive',\n",
              "                                                    [key], {});\n",
              "        if (!dataTable) return;\n",
              "\n",
              "        const docLinkHtml = 'Like what you see? Visit the ' +\n",
              "          '<a target=\"_blank\" href=https://colab.research.google.com/notebooks/data_table.ipynb>data table notebook</a>'\n",
              "          + ' to learn more about interactive tables.';\n",
              "        element.innerHTML = '';\n",
              "        dataTable['output_type'] = 'display_data';\n",
              "        await google.colab.output.renderOutput(dataTable, element);\n",
              "        const docLink = document.createElement('div');\n",
              "        docLink.innerHTML = docLinkHtml;\n",
              "        element.appendChild(docLink);\n",
              "      }\n",
              "    </script>\n",
              "  </div>\n",
              "\n",
              "\n",
              "    <div id=\"df-9a8fc9ab-276a-487d-9b7b-189972987211\">\n",
              "      <button class=\"colab-df-quickchart\" onclick=\"quickchart('df-9a8fc9ab-276a-487d-9b7b-189972987211')\"\n",
              "                title=\"Suggest charts\"\n",
              "                style=\"display:none;\">\n",
              "\n",
              "<svg xmlns=\"http://www.w3.org/2000/svg\" height=\"24px\"viewBox=\"0 0 24 24\"\n",
              "     width=\"24px\">\n",
              "    <g>\n",
              "        <path d=\"M19 3H5c-1.1 0-2 .9-2 2v14c0 1.1.9 2 2 2h14c1.1 0 2-.9 2-2V5c0-1.1-.9-2-2-2zM9 17H7v-7h2v7zm4 0h-2V7h2v10zm4 0h-2v-4h2v4z\"/>\n",
              "    </g>\n",
              "</svg>\n",
              "      </button>\n",
              "\n",
              "<style>\n",
              "  .colab-df-quickchart {\n",
              "      --bg-color: #E8F0FE;\n",
              "      --fill-color: #1967D2;\n",
              "      --hover-bg-color: #E2EBFA;\n",
              "      --hover-fill-color: #174EA6;\n",
              "      --disabled-fill-color: #AAA;\n",
              "      --disabled-bg-color: #DDD;\n",
              "  }\n",
              "\n",
              "  [theme=dark] .colab-df-quickchart {\n",
              "      --bg-color: #3B4455;\n",
              "      --fill-color: #D2E3FC;\n",
              "      --hover-bg-color: #434B5C;\n",
              "      --hover-fill-color: #FFFFFF;\n",
              "      --disabled-bg-color: #3B4455;\n",
              "      --disabled-fill-color: #666;\n",
              "  }\n",
              "\n",
              "  .colab-df-quickchart {\n",
              "    background-color: var(--bg-color);\n",
              "    border: none;\n",
              "    border-radius: 50%;\n",
              "    cursor: pointer;\n",
              "    display: none;\n",
              "    fill: var(--fill-color);\n",
              "    height: 32px;\n",
              "    padding: 0;\n",
              "    width: 32px;\n",
              "  }\n",
              "\n",
              "  .colab-df-quickchart:hover {\n",
              "    background-color: var(--hover-bg-color);\n",
              "    box-shadow: 0 1px 2px rgba(60, 64, 67, 0.3), 0 1px 3px 1px rgba(60, 64, 67, 0.15);\n",
              "    fill: var(--button-hover-fill-color);\n",
              "  }\n",
              "\n",
              "  .colab-df-quickchart-complete:disabled,\n",
              "  .colab-df-quickchart-complete:disabled:hover {\n",
              "    background-color: var(--disabled-bg-color);\n",
              "    fill: var(--disabled-fill-color);\n",
              "    box-shadow: none;\n",
              "  }\n",
              "\n",
              "  .colab-df-spinner {\n",
              "    border: 2px solid var(--fill-color);\n",
              "    border-color: transparent;\n",
              "    border-bottom-color: var(--fill-color);\n",
              "    animation:\n",
              "      spin 1s steps(1) infinite;\n",
              "  }\n",
              "\n",
              "  @keyframes spin {\n",
              "    0% {\n",
              "      border-color: transparent;\n",
              "      border-bottom-color: var(--fill-color);\n",
              "      border-left-color: var(--fill-color);\n",
              "    }\n",
              "    20% {\n",
              "      border-color: transparent;\n",
              "      border-left-color: var(--fill-color);\n",
              "      border-top-color: var(--fill-color);\n",
              "    }\n",
              "    30% {\n",
              "      border-color: transparent;\n",
              "      border-left-color: var(--fill-color);\n",
              "      border-top-color: var(--fill-color);\n",
              "      border-right-color: var(--fill-color);\n",
              "    }\n",
              "    40% {\n",
              "      border-color: transparent;\n",
              "      border-right-color: var(--fill-color);\n",
              "      border-top-color: var(--fill-color);\n",
              "    }\n",
              "    60% {\n",
              "      border-color: transparent;\n",
              "      border-right-color: var(--fill-color);\n",
              "    }\n",
              "    80% {\n",
              "      border-color: transparent;\n",
              "      border-right-color: var(--fill-color);\n",
              "      border-bottom-color: var(--fill-color);\n",
              "    }\n",
              "    90% {\n",
              "      border-color: transparent;\n",
              "      border-bottom-color: var(--fill-color);\n",
              "    }\n",
              "  }\n",
              "</style>\n",
              "\n",
              "      <script>\n",
              "        async function quickchart(key) {\n",
              "          const quickchartButtonEl =\n",
              "            document.querySelector('#' + key + ' button');\n",
              "          quickchartButtonEl.disabled = true;  // To prevent multiple clicks.\n",
              "          quickchartButtonEl.classList.add('colab-df-spinner');\n",
              "          try {\n",
              "            const charts = await google.colab.kernel.invokeFunction(\n",
              "                'suggestCharts', [key], {});\n",
              "          } catch (error) {\n",
              "            console.error('Error during call to suggestCharts:', error);\n",
              "          }\n",
              "          quickchartButtonEl.classList.remove('colab-df-spinner');\n",
              "          quickchartButtonEl.classList.add('colab-df-quickchart-complete');\n",
              "        }\n",
              "        (() => {\n",
              "          let quickchartButtonEl =\n",
              "            document.querySelector('#df-9a8fc9ab-276a-487d-9b7b-189972987211 button');\n",
              "          quickchartButtonEl.style.display =\n",
              "            google.colab.kernel.accessAllowed ? 'block' : 'none';\n",
              "        })();\n",
              "      </script>\n",
              "    </div>\n",
              "\n",
              "    </div>\n",
              "  </div>\n"
            ],
            "application/vnd.google.colaboratory.intrinsic+json": {
              "type": "dataframe",
              "repr_error": "0"
            }
          },
          "metadata": {},
          "execution_count": 6
        }
      ]
    },
    {
      "cell_type": "code",
      "source": [
        "df_sm.shape"
      ],
      "metadata": {
        "colab": {
          "base_uri": "https://localhost:8080/"
        },
        "id": "jhHcK_YBCVDp",
        "outputId": "d7ab32a6-ac88-4591-df4a-657d9f50f8fc"
      },
      "execution_count": 7,
      "outputs": [
        {
          "output_type": "execute_result",
          "data": {
            "text/plain": [
              "(1762, 14)"
            ]
          },
          "metadata": {},
          "execution_count": 7
        }
      ]
    },
    {
      "cell_type": "code",
      "source": [
        "# Basic information of dataset\n",
        "df_sm.info()"
      ],
      "metadata": {
        "id": "5zg32iXOxByJ",
        "colab": {
          "base_uri": "https://localhost:8080/"
        },
        "outputId": "c28f1d56-5f34-429c-d4d8-24b62e2bd823"
      },
      "execution_count": 8,
      "outputs": [
        {
          "output_type": "stream",
          "name": "stdout",
          "text": [
            "<class 'pandas.core.frame.DataFrame'>\n",
            "RangeIndex: 1762 entries, 0 to 1761\n",
            "Data columns (total 14 columns):\n",
            " #   Column          Non-Null Count  Dtype  \n",
            "---  ------          --------------  -----  \n",
            " 0   date            1762 non-null   object \n",
            " 1   ticker          1762 non-null   object \n",
            " 2   open_price      1762 non-null   float64\n",
            " 3   close_price     1762 non-null   float64\n",
            " 4   high_price      1762 non-null   float64\n",
            " 5   low_price       1762 non-null   float64\n",
            " 6   volume_traded   1762 non-null   int64  \n",
            " 7   market_cap      1762 non-null   float64\n",
            " 8   pe_ratio        1762 non-null   float64\n",
            " 9   dividend_yield  1762 non-null   float64\n",
            " 10  eps             1762 non-null   float64\n",
            " 11  52_week_high    1762 non-null   float64\n",
            " 12  52_week_low     1762 non-null   float64\n",
            " 13  sector          1762 non-null   object \n",
            "dtypes: float64(10), int64(1), object(3)\n",
            "memory usage: 192.8+ KB\n"
          ]
        }
      ]
    },
    {
      "cell_type": "markdown",
      "source": [
        "Chage to datetime"
      ],
      "metadata": {
        "id": "FKhV9gUh0A7u"
      }
    },
    {
      "cell_type": "code",
      "source": [
        "# Get descriptive statistics\n",
        "df_sm.describe()"
      ],
      "metadata": {
        "id": "wg4ewbsXxmUF",
        "colab": {
          "base_uri": "https://localhost:8080/",
          "height": 320
        },
        "outputId": "1df99f1c-eac3-44a5-ed6a-343731f13d60"
      },
      "execution_count": 4,
      "outputs": [
        {
          "output_type": "execute_result",
          "data": {
            "text/plain": [
              "        open_price  close_price   high_price    low_price  volume_traded  \\\n",
              "count  1762.000000  1762.000000  1762.000000  1762.000000   1.762000e+03   \n",
              "mean    157.500443   157.567054   160.423258   154.703956   8.075851e+06   \n",
              "std      82.043046    82.227448    83.626559    80.647073   5.104890e+06   \n",
              "min      15.020000    14.770000    15.120000    14.480000   5.007270e+05   \n",
              "25%      86.592500    87.055000    88.487500    85.380000   4.268123e+06   \n",
              "50%     155.675000   155.675000   158.820000   152.725000   7.911528e+06   \n",
              "75%     227.207500   227.902500   231.627500   223.102500   1.160026e+07   \n",
              "max     434.400000   447.430000   453.860000   431.500000   6.537774e+07   \n",
              "\n",
              "         market_cap     pe_ratio  dividend_yield          eps  52_week_high  \\\n",
              "count  1.762000e+03  1762.000000     1762.000000  1762.000000   1762.000000   \n",
              "mean   6.520977e+10    23.143859        2.337327     7.663621    189.009381   \n",
              "std    1.467168e+11     7.498239        1.124037     5.202411     99.082291   \n",
              "min    1.290761e+09     8.020000        0.010000     0.470000     17.030000   \n",
              "25%    2.717406e+10    16.997500        1.450000     3.745000    104.687500   \n",
              "50%    5.135322e+10    22.620000        2.330000     6.790000    185.425000   \n",
              "75%    7.623076e+10    28.977500        3.127500    10.350000    271.920000   \n",
              "max    3.481112e+12    44.890000        5.000000    54.100000    571.570000   \n",
              "\n",
              "       52_week_low  \n",
              "count  1762.000000  \n",
              "mean    125.964574  \n",
              "std      67.767279  \n",
              "min      10.010000  \n",
              "25%      66.662500  \n",
              "50%     123.040000  \n",
              "75%     179.825000  \n",
              "max     345.530000  "
            ],
            "text/html": [
              "\n",
              "  <div id=\"df-46f07e3d-4f69-4a7c-886a-4082c6b3e462\" class=\"colab-df-container\">\n",
              "    <div>\n",
              "<style scoped>\n",
              "    .dataframe tbody tr th:only-of-type {\n",
              "        vertical-align: middle;\n",
              "    }\n",
              "\n",
              "    .dataframe tbody tr th {\n",
              "        vertical-align: top;\n",
              "    }\n",
              "\n",
              "    .dataframe thead th {\n",
              "        text-align: right;\n",
              "    }\n",
              "</style>\n",
              "<table border=\"1\" class=\"dataframe\">\n",
              "  <thead>\n",
              "    <tr style=\"text-align: right;\">\n",
              "      <th></th>\n",
              "      <th>open_price</th>\n",
              "      <th>close_price</th>\n",
              "      <th>high_price</th>\n",
              "      <th>low_price</th>\n",
              "      <th>volume_traded</th>\n",
              "      <th>market_cap</th>\n",
              "      <th>pe_ratio</th>\n",
              "      <th>dividend_yield</th>\n",
              "      <th>eps</th>\n",
              "      <th>52_week_high</th>\n",
              "      <th>52_week_low</th>\n",
              "    </tr>\n",
              "  </thead>\n",
              "  <tbody>\n",
              "    <tr>\n",
              "      <th>count</th>\n",
              "      <td>1762.000000</td>\n",
              "      <td>1762.000000</td>\n",
              "      <td>1762.000000</td>\n",
              "      <td>1762.000000</td>\n",
              "      <td>1.762000e+03</td>\n",
              "      <td>1.762000e+03</td>\n",
              "      <td>1762.000000</td>\n",
              "      <td>1762.000000</td>\n",
              "      <td>1762.000000</td>\n",
              "      <td>1762.000000</td>\n",
              "      <td>1762.000000</td>\n",
              "    </tr>\n",
              "    <tr>\n",
              "      <th>mean</th>\n",
              "      <td>157.500443</td>\n",
              "      <td>157.567054</td>\n",
              "      <td>160.423258</td>\n",
              "      <td>154.703956</td>\n",
              "      <td>8.075851e+06</td>\n",
              "      <td>6.520977e+10</td>\n",
              "      <td>23.143859</td>\n",
              "      <td>2.337327</td>\n",
              "      <td>7.663621</td>\n",
              "      <td>189.009381</td>\n",
              "      <td>125.964574</td>\n",
              "    </tr>\n",
              "    <tr>\n",
              "      <th>std</th>\n",
              "      <td>82.043046</td>\n",
              "      <td>82.227448</td>\n",
              "      <td>83.626559</td>\n",
              "      <td>80.647073</td>\n",
              "      <td>5.104890e+06</td>\n",
              "      <td>1.467168e+11</td>\n",
              "      <td>7.498239</td>\n",
              "      <td>1.124037</td>\n",
              "      <td>5.202411</td>\n",
              "      <td>99.082291</td>\n",
              "      <td>67.767279</td>\n",
              "    </tr>\n",
              "    <tr>\n",
              "      <th>min</th>\n",
              "      <td>15.020000</td>\n",
              "      <td>14.770000</td>\n",
              "      <td>15.120000</td>\n",
              "      <td>14.480000</td>\n",
              "      <td>5.007270e+05</td>\n",
              "      <td>1.290761e+09</td>\n",
              "      <td>8.020000</td>\n",
              "      <td>0.010000</td>\n",
              "      <td>0.470000</td>\n",
              "      <td>17.030000</td>\n",
              "      <td>10.010000</td>\n",
              "    </tr>\n",
              "    <tr>\n",
              "      <th>25%</th>\n",
              "      <td>86.592500</td>\n",
              "      <td>87.055000</td>\n",
              "      <td>88.487500</td>\n",
              "      <td>85.380000</td>\n",
              "      <td>4.268123e+06</td>\n",
              "      <td>2.717406e+10</td>\n",
              "      <td>16.997500</td>\n",
              "      <td>1.450000</td>\n",
              "      <td>3.745000</td>\n",
              "      <td>104.687500</td>\n",
              "      <td>66.662500</td>\n",
              "    </tr>\n",
              "    <tr>\n",
              "      <th>50%</th>\n",
              "      <td>155.675000</td>\n",
              "      <td>155.675000</td>\n",
              "      <td>158.820000</td>\n",
              "      <td>152.725000</td>\n",
              "      <td>7.911528e+06</td>\n",
              "      <td>5.135322e+10</td>\n",
              "      <td>22.620000</td>\n",
              "      <td>2.330000</td>\n",
              "      <td>6.790000</td>\n",
              "      <td>185.425000</td>\n",
              "      <td>123.040000</td>\n",
              "    </tr>\n",
              "    <tr>\n",
              "      <th>75%</th>\n",
              "      <td>227.207500</td>\n",
              "      <td>227.902500</td>\n",
              "      <td>231.627500</td>\n",
              "      <td>223.102500</td>\n",
              "      <td>1.160026e+07</td>\n",
              "      <td>7.623076e+10</td>\n",
              "      <td>28.977500</td>\n",
              "      <td>3.127500</td>\n",
              "      <td>10.350000</td>\n",
              "      <td>271.920000</td>\n",
              "      <td>179.825000</td>\n",
              "    </tr>\n",
              "    <tr>\n",
              "      <th>max</th>\n",
              "      <td>434.400000</td>\n",
              "      <td>447.430000</td>\n",
              "      <td>453.860000</td>\n",
              "      <td>431.500000</td>\n",
              "      <td>6.537774e+07</td>\n",
              "      <td>3.481112e+12</td>\n",
              "      <td>44.890000</td>\n",
              "      <td>5.000000</td>\n",
              "      <td>54.100000</td>\n",
              "      <td>571.570000</td>\n",
              "      <td>345.530000</td>\n",
              "    </tr>\n",
              "  </tbody>\n",
              "</table>\n",
              "</div>\n",
              "    <div class=\"colab-df-buttons\">\n",
              "\n",
              "  <div class=\"colab-df-container\">\n",
              "    <button class=\"colab-df-convert\" onclick=\"convertToInteractive('df-46f07e3d-4f69-4a7c-886a-4082c6b3e462')\"\n",
              "            title=\"Convert this dataframe to an interactive table.\"\n",
              "            style=\"display:none;\">\n",
              "\n",
              "  <svg xmlns=\"http://www.w3.org/2000/svg\" height=\"24px\" viewBox=\"0 -960 960 960\">\n",
              "    <path d=\"M120-120v-720h720v720H120Zm60-500h600v-160H180v160Zm220 220h160v-160H400v160Zm0 220h160v-160H400v160ZM180-400h160v-160H180v160Zm440 0h160v-160H620v160ZM180-180h160v-160H180v160Zm440 0h160v-160H620v160Z\"/>\n",
              "  </svg>\n",
              "    </button>\n",
              "\n",
              "  <style>\n",
              "    .colab-df-container {\n",
              "      display:flex;\n",
              "      gap: 12px;\n",
              "    }\n",
              "\n",
              "    .colab-df-convert {\n",
              "      background-color: #E8F0FE;\n",
              "      border: none;\n",
              "      border-radius: 50%;\n",
              "      cursor: pointer;\n",
              "      display: none;\n",
              "      fill: #1967D2;\n",
              "      height: 32px;\n",
              "      padding: 0 0 0 0;\n",
              "      width: 32px;\n",
              "    }\n",
              "\n",
              "    .colab-df-convert:hover {\n",
              "      background-color: #E2EBFA;\n",
              "      box-shadow: 0px 1px 2px rgba(60, 64, 67, 0.3), 0px 1px 3px 1px rgba(60, 64, 67, 0.15);\n",
              "      fill: #174EA6;\n",
              "    }\n",
              "\n",
              "    .colab-df-buttons div {\n",
              "      margin-bottom: 4px;\n",
              "    }\n",
              "\n",
              "    [theme=dark] .colab-df-convert {\n",
              "      background-color: #3B4455;\n",
              "      fill: #D2E3FC;\n",
              "    }\n",
              "\n",
              "    [theme=dark] .colab-df-convert:hover {\n",
              "      background-color: #434B5C;\n",
              "      box-shadow: 0px 1px 3px 1px rgba(0, 0, 0, 0.15);\n",
              "      filter: drop-shadow(0px 1px 2px rgba(0, 0, 0, 0.3));\n",
              "      fill: #FFFFFF;\n",
              "    }\n",
              "  </style>\n",
              "\n",
              "    <script>\n",
              "      const buttonEl =\n",
              "        document.querySelector('#df-46f07e3d-4f69-4a7c-886a-4082c6b3e462 button.colab-df-convert');\n",
              "      buttonEl.style.display =\n",
              "        google.colab.kernel.accessAllowed ? 'block' : 'none';\n",
              "\n",
              "      async function convertToInteractive(key) {\n",
              "        const element = document.querySelector('#df-46f07e3d-4f69-4a7c-886a-4082c6b3e462');\n",
              "        const dataTable =\n",
              "          await google.colab.kernel.invokeFunction('convertToInteractive',\n",
              "                                                    [key], {});\n",
              "        if (!dataTable) return;\n",
              "\n",
              "        const docLinkHtml = 'Like what you see? Visit the ' +\n",
              "          '<a target=\"_blank\" href=https://colab.research.google.com/notebooks/data_table.ipynb>data table notebook</a>'\n",
              "          + ' to learn more about interactive tables.';\n",
              "        element.innerHTML = '';\n",
              "        dataTable['output_type'] = 'display_data';\n",
              "        await google.colab.output.renderOutput(dataTable, element);\n",
              "        const docLink = document.createElement('div');\n",
              "        docLink.innerHTML = docLinkHtml;\n",
              "        element.appendChild(docLink);\n",
              "      }\n",
              "    </script>\n",
              "  </div>\n",
              "\n",
              "\n",
              "    <div id=\"df-30d2170e-1330-4359-a4de-948b9ea4470a\">\n",
              "      <button class=\"colab-df-quickchart\" onclick=\"quickchart('df-30d2170e-1330-4359-a4de-948b9ea4470a')\"\n",
              "                title=\"Suggest charts\"\n",
              "                style=\"display:none;\">\n",
              "\n",
              "<svg xmlns=\"http://www.w3.org/2000/svg\" height=\"24px\"viewBox=\"0 0 24 24\"\n",
              "     width=\"24px\">\n",
              "    <g>\n",
              "        <path d=\"M19 3H5c-1.1 0-2 .9-2 2v14c0 1.1.9 2 2 2h14c1.1 0 2-.9 2-2V5c0-1.1-.9-2-2-2zM9 17H7v-7h2v7zm4 0h-2V7h2v10zm4 0h-2v-4h2v4z\"/>\n",
              "    </g>\n",
              "</svg>\n",
              "      </button>\n",
              "\n",
              "<style>\n",
              "  .colab-df-quickchart {\n",
              "      --bg-color: #E8F0FE;\n",
              "      --fill-color: #1967D2;\n",
              "      --hover-bg-color: #E2EBFA;\n",
              "      --hover-fill-color: #174EA6;\n",
              "      --disabled-fill-color: #AAA;\n",
              "      --disabled-bg-color: #DDD;\n",
              "  }\n",
              "\n",
              "  [theme=dark] .colab-df-quickchart {\n",
              "      --bg-color: #3B4455;\n",
              "      --fill-color: #D2E3FC;\n",
              "      --hover-bg-color: #434B5C;\n",
              "      --hover-fill-color: #FFFFFF;\n",
              "      --disabled-bg-color: #3B4455;\n",
              "      --disabled-fill-color: #666;\n",
              "  }\n",
              "\n",
              "  .colab-df-quickchart {\n",
              "    background-color: var(--bg-color);\n",
              "    border: none;\n",
              "    border-radius: 50%;\n",
              "    cursor: pointer;\n",
              "    display: none;\n",
              "    fill: var(--fill-color);\n",
              "    height: 32px;\n",
              "    padding: 0;\n",
              "    width: 32px;\n",
              "  }\n",
              "\n",
              "  .colab-df-quickchart:hover {\n",
              "    background-color: var(--hover-bg-color);\n",
              "    box-shadow: 0 1px 2px rgba(60, 64, 67, 0.3), 0 1px 3px 1px rgba(60, 64, 67, 0.15);\n",
              "    fill: var(--button-hover-fill-color);\n",
              "  }\n",
              "\n",
              "  .colab-df-quickchart-complete:disabled,\n",
              "  .colab-df-quickchart-complete:disabled:hover {\n",
              "    background-color: var(--disabled-bg-color);\n",
              "    fill: var(--disabled-fill-color);\n",
              "    box-shadow: none;\n",
              "  }\n",
              "\n",
              "  .colab-df-spinner {\n",
              "    border: 2px solid var(--fill-color);\n",
              "    border-color: transparent;\n",
              "    border-bottom-color: var(--fill-color);\n",
              "    animation:\n",
              "      spin 1s steps(1) infinite;\n",
              "  }\n",
              "\n",
              "  @keyframes spin {\n",
              "    0% {\n",
              "      border-color: transparent;\n",
              "      border-bottom-color: var(--fill-color);\n",
              "      border-left-color: var(--fill-color);\n",
              "    }\n",
              "    20% {\n",
              "      border-color: transparent;\n",
              "      border-left-color: var(--fill-color);\n",
              "      border-top-color: var(--fill-color);\n",
              "    }\n",
              "    30% {\n",
              "      border-color: transparent;\n",
              "      border-left-color: var(--fill-color);\n",
              "      border-top-color: var(--fill-color);\n",
              "      border-right-color: var(--fill-color);\n",
              "    }\n",
              "    40% {\n",
              "      border-color: transparent;\n",
              "      border-right-color: var(--fill-color);\n",
              "      border-top-color: var(--fill-color);\n",
              "    }\n",
              "    60% {\n",
              "      border-color: transparent;\n",
              "      border-right-color: var(--fill-color);\n",
              "    }\n",
              "    80% {\n",
              "      border-color: transparent;\n",
              "      border-right-color: var(--fill-color);\n",
              "      border-bottom-color: var(--fill-color);\n",
              "    }\n",
              "    90% {\n",
              "      border-color: transparent;\n",
              "      border-bottom-color: var(--fill-color);\n",
              "    }\n",
              "  }\n",
              "</style>\n",
              "\n",
              "      <script>\n",
              "        async function quickchart(key) {\n",
              "          const quickchartButtonEl =\n",
              "            document.querySelector('#' + key + ' button');\n",
              "          quickchartButtonEl.disabled = true;  // To prevent multiple clicks.\n",
              "          quickchartButtonEl.classList.add('colab-df-spinner');\n",
              "          try {\n",
              "            const charts = await google.colab.kernel.invokeFunction(\n",
              "                'suggestCharts', [key], {});\n",
              "          } catch (error) {\n",
              "            console.error('Error during call to suggestCharts:', error);\n",
              "          }\n",
              "          quickchartButtonEl.classList.remove('colab-df-spinner');\n",
              "          quickchartButtonEl.classList.add('colab-df-quickchart-complete');\n",
              "        }\n",
              "        (() => {\n",
              "          let quickchartButtonEl =\n",
              "            document.querySelector('#df-30d2170e-1330-4359-a4de-948b9ea4470a button');\n",
              "          quickchartButtonEl.style.display =\n",
              "            google.colab.kernel.accessAllowed ? 'block' : 'none';\n",
              "        })();\n",
              "      </script>\n",
              "    </div>\n",
              "\n",
              "    </div>\n",
              "  </div>\n"
            ],
            "application/vnd.google.colaboratory.intrinsic+json": {
              "type": "dataframe",
              "summary": "{\n  \"name\": \"df_sm\",\n  \"rows\": 8,\n  \"fields\": [\n    {\n      \"column\": \"open_price\",\n      \"properties\": {\n        \"dtype\": \"number\",\n        \"std\": 578.4642852874422,\n        \"min\": 15.02,\n        \"max\": 1762.0,\n        \"num_unique_values\": 8,\n        \"samples\": [\n          157.50044267877414,\n          155.675,\n          1762.0\n        ],\n        \"semantic_type\": \"\",\n        \"description\": \"\"\n      }\n    },\n    {\n      \"column\": \"close_price\",\n      \"properties\": {\n        \"dtype\": \"number\",\n        \"std\": 578.655197179126,\n        \"min\": 14.77,\n        \"max\": 1762.0,\n        \"num_unique_values\": 8,\n        \"samples\": [\n          157.56705448354145,\n          155.675,\n          1762.0\n        ],\n        \"semantic_type\": \"\",\n        \"description\": \"\"\n      }\n    },\n    {\n      \"column\": \"high_price\",\n      \"properties\": {\n        \"dtype\": \"number\",\n        \"std\": 578.1197538388742,\n        \"min\": 15.12,\n        \"max\": 1762.0,\n        \"num_unique_values\": 8,\n        \"samples\": [\n          160.423257661748,\n          158.82,\n          1762.0\n        ],\n        \"semantic_type\": \"\",\n        \"description\": \"\"\n      }\n    },\n    {\n      \"column\": \"low_price\",\n      \"properties\": {\n        \"dtype\": \"number\",\n        \"std\": 579.0792657209026,\n        \"min\": 14.48,\n        \"max\": 1762.0,\n        \"num_unique_values\": 8,\n        \"samples\": [\n          154.70395573212258,\n          152.725,\n          1762.0\n        ],\n        \"semantic_type\": \"\",\n        \"description\": \"\"\n      }\n    },\n    {\n      \"column\": \"volume_traded\",\n      \"properties\": {\n        \"dtype\": \"number\",\n        \"std\": 21577510.42669198,\n        \"min\": 1762.0,\n        \"max\": 65377735.0,\n        \"num_unique_values\": 8,\n        \"samples\": [\n          8075851.174233825,\n          7911528.5,\n          1762.0\n        ],\n        \"semantic_type\": \"\",\n        \"description\": \"\"\n      }\n    },\n    {\n      \"column\": \"market_cap\",\n      \"properties\": {\n        \"dtype\": \"number\",\n        \"std\": 1213093655328.7366,\n        \"min\": 1762.0,\n        \"max\": 3481112076572.781,\n        \"num_unique_values\": 8,\n        \"samples\": [\n          65209771321.75133,\n          51353215099.10037,\n          1762.0\n        ],\n        \"semantic_type\": \"\",\n        \"description\": \"\"\n      }\n    },\n    {\n      \"column\": \"pe_ratio\",\n      \"properties\": {\n        \"dtype\": \"number\",\n        \"std\": 615.3931008417928,\n        \"min\": 7.498239125375651,\n        \"max\": 1762.0,\n        \"num_unique_values\": 8,\n        \"samples\": [\n          23.143859250851303,\n          22.62,\n          1762.0\n        ],\n        \"semantic_type\": \"\",\n        \"description\": \"\"\n      }\n    },\n    {\n      \"column\": \"dividend_yield\",\n      \"properties\": {\n        \"dtype\": \"number\",\n        \"std\": 622.1860753143058,\n        \"min\": 0.01,\n        \"max\": 1762.0,\n        \"num_unique_values\": 8,\n        \"samples\": [\n          2.337326901248581,\n          2.33,\n          1762.0\n        ],\n        \"semantic_type\": \"\",\n        \"description\": \"\"\n      }\n    },\n    {\n      \"column\": \"eps\",\n      \"properties\": {\n        \"dtype\": \"number\",\n        \"std\": 618.7387042267023,\n        \"min\": 0.47,\n        \"max\": 1762.0,\n        \"num_unique_values\": 8,\n        \"samples\": [\n          7.663620885357548,\n          6.789999999999999,\n          1762.0\n        ],\n        \"semantic_type\": \"\",\n        \"description\": \"\"\n      }\n    },\n    {\n      \"column\": \"52_week_high\",\n      \"properties\": {\n        \"dtype\": \"number\",\n        \"std\": 575.1858232276707,\n        \"min\": 17.03,\n        \"max\": 1762.0,\n        \"num_unique_values\": 8,\n        \"samples\": [\n          189.00938138479,\n          185.425,\n          1762.0\n        ],\n        \"semantic_type\": \"\",\n        \"description\": \"\"\n      }\n    },\n    {\n      \"column\": \"52_week_low\",\n      \"properties\": {\n        \"dtype\": \"number\",\n        \"std\": 585.3178347507608,\n        \"min\": 10.01,\n        \"max\": 1762.0,\n        \"num_unique_values\": 8,\n        \"samples\": [\n          125.96457434733259,\n          123.03999999999999,\n          1762.0\n        ],\n        \"semantic_type\": \"\",\n        \"description\": \"\"\n      }\n    }\n  ]\n}"
            }
          },
          "metadata": {},
          "execution_count": 4
        }
      ]
    },
    {
      "cell_type": "code",
      "source": [
        "df_sm.isnull().sum()"
      ],
      "metadata": {
        "id": "iy2Ig3DTrYBV"
      },
      "execution_count": null,
      "outputs": []
    },
    {
      "cell_type": "code",
      "source": [
        "print(df_sm.duplicated().sum())"
      ],
      "metadata": {
        "colab": {
          "base_uri": "https://localhost:8080/"
        },
        "id": "kJL2keWlP3rp",
        "outputId": "f4416f82-9347-4e97-fb01-db385fa652e9"
      },
      "execution_count": 9,
      "outputs": [
        {
          "output_type": "stream",
          "name": "stdout",
          "text": [
            "0\n"
          ]
        }
      ]
    },
    {
      "cell_type": "code",
      "source": [
        "# Get descriptive statistics\n",
        "df_sm.describe(include='object')"
      ],
      "metadata": {
        "id": "OVRtzJCGRNJ8",
        "colab": {
          "base_uri": "https://localhost:8080/",
          "height": 174
        },
        "outputId": "bfb93f88-36c7-4c16-b892-105174340482"
      },
      "execution_count": 29,
      "outputs": [
        {
          "output_type": "execute_result",
          "data": {
            "text/plain": [
              "              date ticker     sector\n",
              "count         1762   1762       1762\n",
              "unique          21   1691         11\n",
              "top     04-06-2025    GFF  Materials\n",
              "freq            98      2        170"
            ],
            "text/html": [
              "\n",
              "  <div id=\"df-d3482e4c-6a66-482b-ba60-d16aa816dc24\" class=\"colab-df-container\">\n",
              "    <div>\n",
              "<style scoped>\n",
              "    .dataframe tbody tr th:only-of-type {\n",
              "        vertical-align: middle;\n",
              "    }\n",
              "\n",
              "    .dataframe tbody tr th {\n",
              "        vertical-align: top;\n",
              "    }\n",
              "\n",
              "    .dataframe thead th {\n",
              "        text-align: right;\n",
              "    }\n",
              "</style>\n",
              "<table border=\"1\" class=\"dataframe\">\n",
              "  <thead>\n",
              "    <tr style=\"text-align: right;\">\n",
              "      <th></th>\n",
              "      <th>date</th>\n",
              "      <th>ticker</th>\n",
              "      <th>sector</th>\n",
              "    </tr>\n",
              "  </thead>\n",
              "  <tbody>\n",
              "    <tr>\n",
              "      <th>count</th>\n",
              "      <td>1762</td>\n",
              "      <td>1762</td>\n",
              "      <td>1762</td>\n",
              "    </tr>\n",
              "    <tr>\n",
              "      <th>unique</th>\n",
              "      <td>21</td>\n",
              "      <td>1691</td>\n",
              "      <td>11</td>\n",
              "    </tr>\n",
              "    <tr>\n",
              "      <th>top</th>\n",
              "      <td>04-06-2025</td>\n",
              "      <td>GFF</td>\n",
              "      <td>Materials</td>\n",
              "    </tr>\n",
              "    <tr>\n",
              "      <th>freq</th>\n",
              "      <td>98</td>\n",
              "      <td>2</td>\n",
              "      <td>170</td>\n",
              "    </tr>\n",
              "  </tbody>\n",
              "</table>\n",
              "</div>\n",
              "    <div class=\"colab-df-buttons\">\n",
              "\n",
              "  <div class=\"colab-df-container\">\n",
              "    <button class=\"colab-df-convert\" onclick=\"convertToInteractive('df-d3482e4c-6a66-482b-ba60-d16aa816dc24')\"\n",
              "            title=\"Convert this dataframe to an interactive table.\"\n",
              "            style=\"display:none;\">\n",
              "\n",
              "  <svg xmlns=\"http://www.w3.org/2000/svg\" height=\"24px\" viewBox=\"0 -960 960 960\">\n",
              "    <path d=\"M120-120v-720h720v720H120Zm60-500h600v-160H180v160Zm220 220h160v-160H400v160Zm0 220h160v-160H400v160ZM180-400h160v-160H180v160Zm440 0h160v-160H620v160ZM180-180h160v-160H180v160Zm440 0h160v-160H620v160Z\"/>\n",
              "  </svg>\n",
              "    </button>\n",
              "\n",
              "  <style>\n",
              "    .colab-df-container {\n",
              "      display:flex;\n",
              "      gap: 12px;\n",
              "    }\n",
              "\n",
              "    .colab-df-convert {\n",
              "      background-color: #E8F0FE;\n",
              "      border: none;\n",
              "      border-radius: 50%;\n",
              "      cursor: pointer;\n",
              "      display: none;\n",
              "      fill: #1967D2;\n",
              "      height: 32px;\n",
              "      padding: 0 0 0 0;\n",
              "      width: 32px;\n",
              "    }\n",
              "\n",
              "    .colab-df-convert:hover {\n",
              "      background-color: #E2EBFA;\n",
              "      box-shadow: 0px 1px 2px rgba(60, 64, 67, 0.3), 0px 1px 3px 1px rgba(60, 64, 67, 0.15);\n",
              "      fill: #174EA6;\n",
              "    }\n",
              "\n",
              "    .colab-df-buttons div {\n",
              "      margin-bottom: 4px;\n",
              "    }\n",
              "\n",
              "    [theme=dark] .colab-df-convert {\n",
              "      background-color: #3B4455;\n",
              "      fill: #D2E3FC;\n",
              "    }\n",
              "\n",
              "    [theme=dark] .colab-df-convert:hover {\n",
              "      background-color: #434B5C;\n",
              "      box-shadow: 0px 1px 3px 1px rgba(0, 0, 0, 0.15);\n",
              "      filter: drop-shadow(0px 1px 2px rgba(0, 0, 0, 0.3));\n",
              "      fill: #FFFFFF;\n",
              "    }\n",
              "  </style>\n",
              "\n",
              "    <script>\n",
              "      const buttonEl =\n",
              "        document.querySelector('#df-d3482e4c-6a66-482b-ba60-d16aa816dc24 button.colab-df-convert');\n",
              "      buttonEl.style.display =\n",
              "        google.colab.kernel.accessAllowed ? 'block' : 'none';\n",
              "\n",
              "      async function convertToInteractive(key) {\n",
              "        const element = document.querySelector('#df-d3482e4c-6a66-482b-ba60-d16aa816dc24');\n",
              "        const dataTable =\n",
              "          await google.colab.kernel.invokeFunction('convertToInteractive',\n",
              "                                                    [key], {});\n",
              "        if (!dataTable) return;\n",
              "\n",
              "        const docLinkHtml = 'Like what you see? Visit the ' +\n",
              "          '<a target=\"_blank\" href=https://colab.research.google.com/notebooks/data_table.ipynb>data table notebook</a>'\n",
              "          + ' to learn more about interactive tables.';\n",
              "        element.innerHTML = '';\n",
              "        dataTable['output_type'] = 'display_data';\n",
              "        await google.colab.output.renderOutput(dataTable, element);\n",
              "        const docLink = document.createElement('div');\n",
              "        docLink.innerHTML = docLinkHtml;\n",
              "        element.appendChild(docLink);\n",
              "      }\n",
              "    </script>\n",
              "  </div>\n",
              "\n",
              "\n",
              "    <div id=\"df-b364764d-56d8-4a29-8e7f-cf3a21bc4861\">\n",
              "      <button class=\"colab-df-quickchart\" onclick=\"quickchart('df-b364764d-56d8-4a29-8e7f-cf3a21bc4861')\"\n",
              "                title=\"Suggest charts\"\n",
              "                style=\"display:none;\">\n",
              "\n",
              "<svg xmlns=\"http://www.w3.org/2000/svg\" height=\"24px\"viewBox=\"0 0 24 24\"\n",
              "     width=\"24px\">\n",
              "    <g>\n",
              "        <path d=\"M19 3H5c-1.1 0-2 .9-2 2v14c0 1.1.9 2 2 2h14c1.1 0 2-.9 2-2V5c0-1.1-.9-2-2-2zM9 17H7v-7h2v7zm4 0h-2V7h2v10zm4 0h-2v-4h2v4z\"/>\n",
              "    </g>\n",
              "</svg>\n",
              "      </button>\n",
              "\n",
              "<style>\n",
              "  .colab-df-quickchart {\n",
              "      --bg-color: #E8F0FE;\n",
              "      --fill-color: #1967D2;\n",
              "      --hover-bg-color: #E2EBFA;\n",
              "      --hover-fill-color: #174EA6;\n",
              "      --disabled-fill-color: #AAA;\n",
              "      --disabled-bg-color: #DDD;\n",
              "  }\n",
              "\n",
              "  [theme=dark] .colab-df-quickchart {\n",
              "      --bg-color: #3B4455;\n",
              "      --fill-color: #D2E3FC;\n",
              "      --hover-bg-color: #434B5C;\n",
              "      --hover-fill-color: #FFFFFF;\n",
              "      --disabled-bg-color: #3B4455;\n",
              "      --disabled-fill-color: #666;\n",
              "  }\n",
              "\n",
              "  .colab-df-quickchart {\n",
              "    background-color: var(--bg-color);\n",
              "    border: none;\n",
              "    border-radius: 50%;\n",
              "    cursor: pointer;\n",
              "    display: none;\n",
              "    fill: var(--fill-color);\n",
              "    height: 32px;\n",
              "    padding: 0;\n",
              "    width: 32px;\n",
              "  }\n",
              "\n",
              "  .colab-df-quickchart:hover {\n",
              "    background-color: var(--hover-bg-color);\n",
              "    box-shadow: 0 1px 2px rgba(60, 64, 67, 0.3), 0 1px 3px 1px rgba(60, 64, 67, 0.15);\n",
              "    fill: var(--button-hover-fill-color);\n",
              "  }\n",
              "\n",
              "  .colab-df-quickchart-complete:disabled,\n",
              "  .colab-df-quickchart-complete:disabled:hover {\n",
              "    background-color: var(--disabled-bg-color);\n",
              "    fill: var(--disabled-fill-color);\n",
              "    box-shadow: none;\n",
              "  }\n",
              "\n",
              "  .colab-df-spinner {\n",
              "    border: 2px solid var(--fill-color);\n",
              "    border-color: transparent;\n",
              "    border-bottom-color: var(--fill-color);\n",
              "    animation:\n",
              "      spin 1s steps(1) infinite;\n",
              "  }\n",
              "\n",
              "  @keyframes spin {\n",
              "    0% {\n",
              "      border-color: transparent;\n",
              "      border-bottom-color: var(--fill-color);\n",
              "      border-left-color: var(--fill-color);\n",
              "    }\n",
              "    20% {\n",
              "      border-color: transparent;\n",
              "      border-left-color: var(--fill-color);\n",
              "      border-top-color: var(--fill-color);\n",
              "    }\n",
              "    30% {\n",
              "      border-color: transparent;\n",
              "      border-left-color: var(--fill-color);\n",
              "      border-top-color: var(--fill-color);\n",
              "      border-right-color: var(--fill-color);\n",
              "    }\n",
              "    40% {\n",
              "      border-color: transparent;\n",
              "      border-right-color: var(--fill-color);\n",
              "      border-top-color: var(--fill-color);\n",
              "    }\n",
              "    60% {\n",
              "      border-color: transparent;\n",
              "      border-right-color: var(--fill-color);\n",
              "    }\n",
              "    80% {\n",
              "      border-color: transparent;\n",
              "      border-right-color: var(--fill-color);\n",
              "      border-bottom-color: var(--fill-color);\n",
              "    }\n",
              "    90% {\n",
              "      border-color: transparent;\n",
              "      border-bottom-color: var(--fill-color);\n",
              "    }\n",
              "  }\n",
              "</style>\n",
              "\n",
              "      <script>\n",
              "        async function quickchart(key) {\n",
              "          const quickchartButtonEl =\n",
              "            document.querySelector('#' + key + ' button');\n",
              "          quickchartButtonEl.disabled = true;  // To prevent multiple clicks.\n",
              "          quickchartButtonEl.classList.add('colab-df-spinner');\n",
              "          try {\n",
              "            const charts = await google.colab.kernel.invokeFunction(\n",
              "                'suggestCharts', [key], {});\n",
              "          } catch (error) {\n",
              "            console.error('Error during call to suggestCharts:', error);\n",
              "          }\n",
              "          quickchartButtonEl.classList.remove('colab-df-spinner');\n",
              "          quickchartButtonEl.classList.add('colab-df-quickchart-complete');\n",
              "        }\n",
              "        (() => {\n",
              "          let quickchartButtonEl =\n",
              "            document.querySelector('#df-b364764d-56d8-4a29-8e7f-cf3a21bc4861 button');\n",
              "          quickchartButtonEl.style.display =\n",
              "            google.colab.kernel.accessAllowed ? 'block' : 'none';\n",
              "        })();\n",
              "      </script>\n",
              "    </div>\n",
              "\n",
              "    </div>\n",
              "  </div>\n"
            ],
            "application/vnd.google.colaboratory.intrinsic+json": {
              "type": "dataframe",
              "summary": "{\n  \"name\": \"df_sm\",\n  \"rows\": 4,\n  \"fields\": [\n    {\n      \"column\": \"date\",\n      \"properties\": {\n        \"dtype\": \"date\",\n        \"min\": \"1970-01-01 00:00:00.000000021\",\n        \"max\": \"2025-04-06 00:00:00\",\n        \"num_unique_values\": 4,\n        \"samples\": [\n          21,\n          \"98\",\n          \"1762\"\n        ],\n        \"semantic_type\": \"\",\n        \"description\": \"\"\n      }\n    },\n    {\n      \"column\": \"ticker\",\n      \"properties\": {\n        \"dtype\": \"string\",\n        \"num_unique_values\": 4,\n        \"samples\": [\n          1691,\n          \"2\",\n          \"1762\"\n        ],\n        \"semantic_type\": \"\",\n        \"description\": \"\"\n      }\n    },\n    {\n      \"column\": \"sector\",\n      \"properties\": {\n        \"dtype\": \"string\",\n        \"num_unique_values\": 4,\n        \"samples\": [\n          11,\n          \"170\",\n          \"1762\"\n        ],\n        \"semantic_type\": \"\",\n        \"description\": \"\"\n      }\n    }\n  ]\n}"
            }
          },
          "metadata": {},
          "execution_count": 29
        }
      ]
    },
    {
      "cell_type": "code",
      "source": [
        "df_sm.dtypes"
      ],
      "metadata": {
        "id": "XmYjuS5lWAd1"
      },
      "execution_count": null,
      "outputs": []
    },
    {
      "cell_type": "code",
      "source": [
        "# create new data frame from original dataset for further data cleaning and analysis.\n",
        "df = df_sm.copy()"
      ],
      "metadata": {
        "id": "ypWSKP4pRkQA"
      },
      "execution_count": 6,
      "outputs": []
    },
    {
      "cell_type": "markdown",
      "source": [
        "### Feature Engineering"
      ],
      "metadata": {
        "id": "lpzcFOP2YKZq"
      }
    },
    {
      "cell_type": "code",
      "source": [
        "df['date'] = pd.to_datetime(df['date'],format='%d-%m-%Y')"
      ],
      "metadata": {
        "id": "qIemGjuaVueW"
      },
      "execution_count": 7,
      "outputs": []
    },
    {
      "cell_type": "code",
      "source": [
        "df.info()"
      ],
      "metadata": {
        "colab": {
          "base_uri": "https://localhost:8080/"
        },
        "id": "uhMM7n0HR7am",
        "outputId": "6fc84807-4587-4ba5-8a10-259873e512c9"
      },
      "execution_count": 8,
      "outputs": [
        {
          "output_type": "stream",
          "name": "stdout",
          "text": [
            "<class 'pandas.core.frame.DataFrame'>\n",
            "RangeIndex: 1762 entries, 0 to 1761\n",
            "Data columns (total 14 columns):\n",
            " #   Column          Non-Null Count  Dtype         \n",
            "---  ------          --------------  -----         \n",
            " 0   date            1762 non-null   datetime64[ns]\n",
            " 1   ticker          1762 non-null   object        \n",
            " 2   open_price      1762 non-null   float64       \n",
            " 3   close_price     1762 non-null   float64       \n",
            " 4   high_price      1762 non-null   float64       \n",
            " 5   low_price       1762 non-null   float64       \n",
            " 6   volume_traded   1762 non-null   int64         \n",
            " 7   market_cap      1762 non-null   float64       \n",
            " 8   pe_ratio        1762 non-null   float64       \n",
            " 9   dividend_yield  1762 non-null   float64       \n",
            " 10  eps             1762 non-null   float64       \n",
            " 11  52_week_high    1762 non-null   float64       \n",
            " 12  52_week_low     1762 non-null   float64       \n",
            " 13  sector          1762 non-null   object        \n",
            "dtypes: datetime64[ns](1), float64(10), int64(1), object(2)\n",
            "memory usage: 192.8+ KB\n"
          ]
        }
      ]
    },
    {
      "cell_type": "code",
      "source": [
        "# Feature Engineering\n",
        "# df['Price_Range'] = df['High'] - df['Low']\n",
        "# df['Volatility'] = (df['High'] - df['Low']) / df['Open']\n",
        "# df['Daily_Return'] = (df['Close'] - df['Open']) / df['Open']"
      ],
      "metadata": {
        "id": "cFLdatyjjOI3"
      },
      "execution_count": null,
      "outputs": []
    },
    {
      "cell_type": "code",
      "source": [
        "#df['day'] = df['date'].dt.day\n",
        "#df['Month'] = df['Date'].dt.month\n",
        "#df['DayOfWeek'] = df['Date'].dt.dayofweek"
      ],
      "metadata": {
        "id": "5OOtIU_OWIW2"
      },
      "execution_count": 15,
      "outputs": []
    },
    {
      "cell_type": "markdown",
      "source": [
        "**Add three New colums Datetime to day , month and dayofweek split**"
      ],
      "metadata": {
        "id": "zrdXUpUHWbRN"
      }
    },
    {
      "cell_type": "markdown",
      "source": [
        "## **EDA**"
      ],
      "metadata": {
        "id": "mMcG0h7JWsjo"
      }
    },
    {
      "cell_type": "code",
      "source": [
        "df.columns"
      ],
      "metadata": {
        "colab": {
          "base_uri": "https://localhost:8080/"
        },
        "id": "WPP2Vj3SuMl-",
        "outputId": "ac08f4ac-04f5-4837-ee31-842e295f8af4"
      },
      "execution_count": 10,
      "outputs": [
        {
          "output_type": "execute_result",
          "data": {
            "text/plain": [
              "Index(['date', 'ticker', 'open_price', 'close_price', 'high_price',\n",
              "       'low_price', 'volume_traded', 'market_cap', 'pe_ratio',\n",
              "       'dividend_yield', 'eps', '52_week_high', '52_week_low', 'sector'],\n",
              "      dtype='object')"
            ]
          },
          "metadata": {},
          "execution_count": 10
        }
      ]
    },
    {
      "cell_type": "markdown",
      "source": [
        "### **Sector Distribution**"
      ],
      "metadata": {
        "id": "zlQ73e-GFXix"
      }
    },
    {
      "cell_type": "code",
      "source": [
        "plt.figure(figsize=(10,6))\n",
        "plt.pie(df['sector'].value_counts(),labels=df['sector'].value_counts().index,autopct='%1.1f%%')\n",
        "plt.title('Sector Distribution')\n",
        "plt.show()"
      ],
      "metadata": {
        "colab": {
          "base_uri": "https://localhost:8080/",
          "height": 521
        },
        "id": "CjivnwGkvsLt",
        "outputId": "ea8c4ed8-9d32-4c6b-9b6a-6042608eedcd"
      },
      "execution_count": 11,
      "outputs": [
        {
          "output_type": "display_data",
          "data": {
            "text/plain": [
              "<Figure size 1000x600 with 1 Axes>"
            ],
            "image/png": "[encoded data removed]"
          },
          "metadata": {}
        }
      ]
    },
    {
      "cell_type": "markdown",
      "source": [
        "### **Top 5 Sectors Max Price Date-wise**"
      ],
      "metadata": {
        "id": "9qjyp_AfPsV-"
      }
    },
    {
      "cell_type": "code",
      "source": [
        "top_5_sectors = df['sector'].value_counts().head(5).index.tolist()\n",
        "print(\"Top 5 Sectors:\", top_5_sectors)\n",
        "# Filter dataset to include only top 5 sectors\n",
        "top_sectors_df = df[df['sector'].isin(top_5_sectors)]\n",
        "# Group by Sector and Date, then get max High Price\n",
        "sector_date_high = top_sectors_df.groupby(['sector', 'date'])['high_price'].max().reset_index()\n",
        "\n",
        "# Sort by Sector and Date\n",
        "sector_date_high = sector_date_high.sort_values(['sector', 'date'])\n",
        "\n",
        "# Display results\n",
        "#print(sector_date_high.head(10))  # Just show top 10 rows\n",
        "\n",
        "#plt.figure(figsize=(12, 6))\n",
        "#sns.lineplot(data=sector_date_high, x='date', y='high_price', hue='sector')\n",
        "#plt.title('Date-wise High Price for Top 5 Sectors')\n",
        "#plt.xlabel('Date')\n",
        "#plt.ylabel('High Price')\n",
        "#plt.legend(title='Sector')\n",
        "#plt.grid()\n",
        "#plt.show()"
      ],
      "metadata": {
        "colab": {
          "base_uri": "https://localhost:8080/"
        },
        "id": "pC_TssDXC4uc",
        "outputId": "73f79fef-d909-4ea6-dc5f-59e6991793a6"
      },
      "execution_count": 19,
      "outputs": [
        {
          "output_type": "stream",
          "name": "stdout",
          "text": [
            "Top 5 Sectors: ['Materials', 'Financials', 'Healthcare', 'Industrials', 'Utilities']\n"
          ]
        }
      ]
    },
    {
      "cell_type": "code",
      "source": [
        "price_cols = ['open_price', 'close_price', 'high_price','low_price',\n",
        "       'dividend_yield', 'eps', '52_week_high', '52_week_low']\n",
        "\n",
        "for col in price_cols:\n",
        "        # Group by Sector and Date, then get max(price_cols) like...High Price\n",
        "        sector_date_high = top_sectors_df.groupby(['sector', 'date'])[col].max().reset_index()\n",
        "        # Sort by Sector and Date\n",
        "        sector_date_high = sector_date_high.sort_values(['sector', 'date'])\n",
        "        # Plot\n",
        "        plt.figure(figsize=(12, 4))\n",
        "        sns.lineplot(data=sector_date_high, x='date', y=col, hue='sector')\n",
        "        plt.title(f'Date-wise {col} for Top 5 Sectors')\n",
        "        plt.xlabel('Date')\n",
        "        plt.ylabel(col)\n",
        "        plt.legend(title='Sector')\n",
        "        plt.grid()\n",
        "        plt.show()\n",
        "\n"
      ],
      "metadata": {
        "id": "3o_6rKUYIkyu"
      },
      "execution_count": null,
      "outputs": []
    },
    {
      "cell_type": "code",
      "source": [
        "plt.figure(figsize=(12,4))\n",
        "sns.barplot(data=df,x='sector',y='market_cap',hue='sector')\n",
        "plt.title('Marketcap Trend Over Time by Sector')\n",
        "plt.xlabel('Sector')\n",
        "plt.ylabel('Marketcap')\n",
        "plt.xticks(rotation=45)\n",
        "plt.show()"
      ],
      "metadata": {
        "colab": {
          "base_uri": "https://localhost:8080/",
          "height": 528
        },
        "id": "o7p7N20bujfm",
        "outputId": "c9735fa1-ce3a-40ae-fedc-03a6cac2d7e5"
      },
      "execution_count": 16,
      "outputs": [
        {
          "output_type": "display_data",
          "data": {
            "text/plain": [
              "<Figure size 1200x400 with 1 Axes>"
            ],
            "image/png": "[encoded data removed]"
          },
          "metadata": {}
        }
      ]
    },
    {
      "cell_type": "code",
      "source": [
        "plt.figure(figsize=(12,5))\n",
        "sns.pairplot(df,hue='sector')\n",
        "plt.show()"
      ],
      "metadata": {
        "id": "B_SOBjR9TXp0"
      },
      "execution_count": null,
      "outputs": []
    },
    {
      "cell_type": "code",
      "source": [
        "num_cols = ['open_price', 'close_price', 'high_price', 'low_price',\n",
        "            'market_cap', 'dividend_yield', '52_week_high', '52_week_low']\n",
        "\n",
        "corr = df[num_cols].corr()\n",
        "plt.figure(figsize=(6, 4))\n",
        "sns.heatmap(corr, annot=True, cmap='coolwarm')\n",
        "plt.title('Correlation Matrix')\n",
        "plt.show()"
      ],
      "metadata": {
        "colab": {
          "base_uri": "https://localhost:8080/",
          "height": 477
        },
        "id": "C62QXrJtcTLI",
        "outputId": "b7531ca0-8b0b-4048-aca8-7f7e64638a1f"
      },
      "execution_count": 14,
      "outputs": [
        {
          "output_type": "display_data",
          "data": {
            "text/plain": [
              "<Figure size 600x400 with 2 Axes>"
            ],
            "image/png": "[encoded data removed]"
          },
          "metadata": {}
        }
      ]
    },
    {
      "cell_type": "markdown",
      "source": [
        "### **how to do Stock Price Prediction using Time Series Forecasting with OHLC data**"
      ],
      "metadata": {
        "id": "O9vLEwV-sk_z"
      }
    },
    {
      "cell_type": "markdown",
      "source": [
        "✅ What you'll predict:\n",
        "\n",
        "You want to predict the next day’s Close price using past OHLC data (Open, High, Low, Close).\n",
        "\n"
      ],
      "metadata": {
        "id": "7-HqfAr0svVU"
      }
    },
    {
      "cell_type": "markdown",
      "source": [
        "##**ML**\n",
        "### Feature Engineering and Target Selection"
      ],
      "metadata": {
        "id": "CAeHn08y9pMQ"
      }
    },
    {
      "cell_type": "code",
      "source": [
        "stock_df = df.copy()"
      ],
      "metadata": {
        "id": "eGKxjJ084FtJ"
      },
      "execution_count": 88,
      "outputs": []
    },
    {
      "cell_type": "code",
      "source": [
        "stock_df['ticker'].rename('ticker',inplace=True)"
      ],
      "metadata": {
        "id": "j04QTPLgVaNz"
      },
      "execution_count": null,
      "outputs": []
    },
    {
      "cell_type": "code",
      "source": [
        "stock_df.shape"
      ],
      "metadata": {
        "colab": {
          "base_uri": "https://localhost:8080/"
        },
        "id": "4avPExXEc-yM",
        "outputId": "65b56fbe-9560-4c18-cf3e-edec0948d195"
      },
      "execution_count": 65,
      "outputs": [
        {
          "output_type": "execute_result",
          "data": {
            "text/plain": [
              "(1762, 14)"
            ]
          },
          "metadata": {},
          "execution_count": 65
        }
      ]
    },
    {
      "cell_type": "code",
      "source": [
        "stock_df.columns"
      ],
      "metadata": {
        "id": "S_-QrIyFZM5A"
      },
      "execution_count": null,
      "outputs": []
    },
    {
      "cell_type": "code",
      "source": [
        "# Make sure your DataFrame is sorted by date\n",
        "stock_df.sort_values(by='date', inplace=True)"
      ],
      "metadata": {
        "id": "GXyq8XyckFph"
      },
      "execution_count": 75,
      "outputs": []
    },
    {
      "cell_type": "code",
      "source": [
        "# Shift the 'close_price' column to create the next day's close as the target\n",
        "stock_df['next_close_price'] = stock_df['close_price'].shift(-1)\n",
        "\n",
        "# Drop the last row (because it has NaN in target)\n",
        "#stock_df.dropna(inplace=True)"
      ],
      "metadata": {
        "id": "Fy3nvC9SkKQB"
      },
      "execution_count": 76,
      "outputs": []
    },
    {
      "cell_type": "code",
      "source": [
        "stock_df[['date','ticker','open_price', 'close_price','next_close_price']].head(20)"
      ],
      "metadata": {
        "id": "bJv5wcSpCvSw"
      },
      "execution_count": null,
      "outputs": []
    },
    {
      "cell_type": "code",
      "source": [
        "from sklearn.model_selection import train_test_split\n",
        "from sklearn.ensemble import RandomForestRegressor\n",
        "from sklearn.linear_model import LinearRegression\n",
        "from sklearn.metrics import mean_squared_error, r2_score\n",
        "from sklearn.preprocessing import StandardScaler"
      ],
      "metadata": {
        "id": "5XyWbBbckyLx"
      },
      "execution_count": 35,
      "outputs": []
    },
    {
      "cell_type": "code",
      "source": [
        "# Define features and target\n",
        "features = ['open_price', 'close_price', 'high_price',\n",
        "       'low_price'] #['open_price', 'high_price', 'low_price', 'close_price']\n",
        "target = 'next_close_price'\n",
        "\n",
        "X = stock_df[features]\n",
        "y = stock_df[target]"
      ],
      "metadata": {
        "id": "av3n4I4OkRVC"
      },
      "execution_count": 46,
      "outputs": []
    },
    {
      "cell_type": "code",
      "source": [
        "# Split the data (no shuffle because it's time series)\n",
        "X_train, X_test, y_train, y_test = train_test_split(X, y, test_size=0.2, shuffle=False, random_state=42)"
      ],
      "metadata": {
        "id": "UMuPDJw7iRH7"
      },
      "execution_count": 47,
      "outputs": []
    },
    {
      "cell_type": "code",
      "source": [
        "X_train.shape , X_test.shape"
      ],
      "metadata": {
        "colab": {
          "base_uri": "https://localhost:8080/"
        },
        "id": "bajAEOZclWCo",
        "outputId": "d9dd089e-62a8-4987-9424-7394d62ad552"
      },
      "execution_count": 48,
      "outputs": [
        {
          "output_type": "execute_result",
          "data": {
            "text/plain": [
              "((1408, 4), (353, 4))"
            ]
          },
          "metadata": {},
          "execution_count": 48
        }
      ]
    },
    {
      "cell_type": "code",
      "source": [
        "# Train the Random Forest model\n",
        "model = RandomForestRegressor(n_estimators=100, random_state=42)\n",
        "model.fit(X_train, y_train)\n",
        "\n",
        "# Predict the next day's Close\n",
        "y_pred = model.predict(X_test)"
      ],
      "metadata": {
        "id": "EDdy9UovlRrH"
      },
      "execution_count": 49,
      "outputs": []
    },
    {
      "cell_type": "code",
      "source": [
        "# Evaluate the model\n",
        "mse = mean_squared_error(y_test, y_pred)\n",
        "r2 = r2_score(y_test, y_pred)\n",
        "\n",
        "print(f\"Mean Squared Error: {mse:.2f}\")\n",
        "print(f\"R2 Score: {r2:.2f}\")"
      ],
      "metadata": {
        "colab": {
          "base_uri": "https://localhost:8080/"
        },
        "id": "52p5m-takuhk",
        "outputId": "cef7e9c9-9626-4f4d-d3c5-e7d7f2cffd43"
      },
      "execution_count": 51,
      "outputs": [
        {
          "output_type": "stream",
          "name": "stdout",
          "text": [
            "Mean Squared Error: 9257.22\n",
            "R2 Score: -0.32\n"
          ]
        }
      ]
    },
    {
      "cell_type": "code",
      "source": [
        "scaler = StandardScaler()\n",
        "\n",
        "# Fit on training data only, then transform both\n",
        "X_train_scaled = scaler.fit_transform(X_train)\n",
        "X_test_scaled = scaler.transform(X_test)"
      ],
      "metadata": {
        "id": "tJtuzFjVA_aQ"
      },
      "execution_count": 52,
      "outputs": []
    },
    {
      "cell_type": "code",
      "source": [
        "model = LinearRegression()\n",
        "model.fit(X_train_scaled, y_train)\n",
        "#Evaluate the Model\n",
        "y_pred = model.predict(X_test_scaled)\n",
        "\n",
        "mse = mean_squared_error(y_test, y_pred)\n",
        "r2 = r2_score(y_test, y_pred)\n",
        "\n",
        "print(f\"Mean Squared Error: {mse:.2f}\")\n",
        "print(f\"R² Score: {r2:.2f}\")"
      ],
      "metadata": {
        "colab": {
          "base_uri": "https://localhost:8080/"
        },
        "id": "Ji1exaEzBqVw",
        "outputId": "0b17dfc1-84be-4e80-e0ef-f26fd01f8482"
      },
      "execution_count": 53,
      "outputs": [
        {
          "output_type": "stream",
          "name": "stdout",
          "text": [
            "Mean Squared Error: 7103.97\n",
            "R² Score: -0.01\n"
          ]
        }
      ]
    },
    {
      "cell_type": "code",
      "source": [
        "stock_df[['open_price', 'close_price', 'high_price',\n",
        "       'low_price','next_close_price']]"
      ],
      "metadata": {
        "id": "m2uhSgzZCPay"
      },
      "execution_count": null,
      "outputs": []
    },
    {
      "cell_type": "code",
      "source": [
        "# Plot actual vs predicted close prices\n",
        "plt.figure(figsize=(12, 6))\n",
        "plt.plot(y_test.values, label='Actual Next Close', color='blue')\n",
        "plt.plot(y_pred, label='Predicted Next Close', color='orange')\n",
        "plt.title(\"Prediction of Next Day's Close Price using Today's OHLC\")\n",
        "plt.xlabel(\"Sample Index\")\n",
        "plt.ylabel(\"Close Price\")\n",
        "plt.legend()\n",
        "plt.grid(True)\n",
        "plt.show()\n"
      ],
      "metadata": {
        "id": "o7obtn_9kwmo"
      },
      "execution_count": null,
      "outputs": []
    },
    {
      "cell_type": "markdown",
      "source": [
        "**Plot Actual vs Predicted**"
      ],
      "metadata": {
        "id": "74tuKs-CbmEa"
      }
    },
    {
      "cell_type": "code",
      "source": [
        "#Plot Actual vs Predicted\n",
        "\n",
        "plt.figure(figsize=(10, 5))\n",
        "plt.plot(y_test.values[:50], label='Actual Close Price')\n",
        "plt.plot(y_pred[:50], label='Predicted Close Price')\n",
        "plt.xlabel(\"Days\")\n",
        "plt.ylabel(\"Price\")\n",
        "plt.title(\"Stock Price Prediction (Next Day Close)\")\n",
        "plt.legend()\n",
        "plt.grid(True)\n",
        "plt.show()"
      ],
      "metadata": {
        "id": "VCF7sIY5bge3"
      },
      "execution_count": null,
      "outputs": []
    }
  ]
}